{
 "cells": [
  {
   "cell_type": "code",
   "execution_count": null,
   "metadata": {},
   "outputs": [],
   "source": [
    "%%sh\n",
    "pip install pycaret\n",
    "pip install python-dotenv\n",
    "pip install ydata-profiling\n",
    "pip install shap\n",
    "pip -q install --upgrade stepfunctions"
   ]
  },
  {
   "cell_type": "code",
   "execution_count": 34,
   "metadata": {},
   "outputs": [],
   "source": [
    "import os\n",
    "from sagemaker import get_execution_role\n",
    "from dotenv import load_dotenv\n",
    "from load_data import load_data\n",
    "from split_data import split_data\n",
    "import importlib\n",
    "from save_model_to_s3 import save_model_to_s3\n",
    "from deploy_model_endpoint import deploy_model\n",
    "from finalize_and_save_model import finalize_and_save_model\n",
    "from delete_sagemaker_endpoint import delete_sagemaker_endpoint\n",
    "from ydata_profiling import ProfileReport\n",
    "import boto3"
   ]
  },
  {
   "cell_type": "code",
   "execution_count": 35,
   "metadata": {},
   "outputs": [],
   "source": [
    "import stepfunctions\n",
    "import uuid\n",
    "import logging\n",
    "\n",
    "from stepfunctions import steps\n",
    "from stepfunctions.steps import TrainingStep, ModelStep\n",
    "from stepfunctions.inputs import ExecutionInput\n",
    "from stepfunctions.workflow import Workflow\n",
    "from sagemaker.estimator import Estimator\n",
    "\n",
    "stepfunctions.set_stream_logger(level=logging.INFO)"
   ]
  },
  {
   "cell_type": "code",
   "execution_count": 44,
   "metadata": {},
   "outputs": [
    {
     "name": "stdout",
     "output_type": "stream",
     "text": [
      "sagemaker.config INFO - Not applying SDK defaults from location: /Library/Application Support/sagemaker/config.yaml\n",
      "sagemaker.config INFO - Not applying SDK defaults from location: /Users/lanre.bakare/Library/Application Support/sagemaker/config.yaml\n",
      "streaming-data-platform-ml-data/ethan_data.csv classification y classification-proba-endpoint banking-classification s3://streaming-data-platform-ml-data/ethan_data.csv ml.m4.xlarge None AUC\n"
     ]
    }
   ],
   "source": [
    "# Variables Setup Stage\n",
    "load_dotenv(\".env\")\n",
    "role = get_execution_role()\n",
    "\n",
    "# Env variables\n",
    "data_location_s3 = os.getenv(\"data_location_s3\")\n",
    "algorithm_choice = os.getenv(\"algorithm_choice\")\n",
    "target = os.getenv(\"target\")\n",
    "endpoint_name = os.getenv(\"endpoint_name\")\n",
    "model_name = os.getenv(\"model_name\")\n",
    "data_location = \"s3://{}\".format(data_location_s3)\n",
    "instance_type = os.getenv(\"instance_type\")\n",
    "model_instance_count = int(os.getenv(\"model_instance_count\"))\n",
    "image_uri = os.getenv(\"ecr_repo_uri\")\n",
    "tuning_metric = os.getenv(\"tuning_metric\")\n",
    "\n",
    "print(\n",
    "    data_location_s3,\n",
    "    algorithm_choice,\n",
    "    target,\n",
    "    endpoint_name,\n",
    "    model_name,\n",
    "    data_location,\n",
    "    instance_type,\n",
    "    image_uri,\n",
    "    tuning_metric,\n",
    ")"
   ]
  },
  {
   "cell_type": "code",
   "execution_count": 45,
   "metadata": {},
   "outputs": [],
   "source": [
    "lambda_role = \"arn:aws:iam::135544376709:role/banking-classification-sagemaker-role\""
   ]
  },
  {
   "cell_type": "code",
   "execution_count": 46,
   "metadata": {},
   "outputs": [
    {
     "data": {
      "text/html": [
       "<div>\n",
       "<style scoped>\n",
       "    .dataframe tbody tr th:only-of-type {\n",
       "        vertical-align: middle;\n",
       "    }\n",
       "\n",
       "    .dataframe tbody tr th {\n",
       "        vertical-align: top;\n",
       "    }\n",
       "\n",
       "    .dataframe thead th {\n",
       "        text-align: right;\n",
       "    }\n",
       "</style>\n",
       "<table border=\"1\" class=\"dataframe\">\n",
       "  <thead>\n",
       "    <tr style=\"text-align: right;\">\n",
       "      <th></th>\n",
       "      <th>age</th>\n",
       "      <th>job</th>\n",
       "      <th>education</th>\n",
       "      <th>default</th>\n",
       "      <th>balance</th>\n",
       "      <th>housing</th>\n",
       "      <th>loan</th>\n",
       "      <th>y</th>\n",
       "    </tr>\n",
       "  </thead>\n",
       "  <tbody>\n",
       "    <tr>\n",
       "      <th>0</th>\n",
       "      <td>32</td>\n",
       "      <td>7</td>\n",
       "      <td>2</td>\n",
       "      <td>1</td>\n",
       "      <td>-238</td>\n",
       "      <td>1</td>\n",
       "      <td>0</td>\n",
       "      <td>0</td>\n",
       "    </tr>\n",
       "    <tr>\n",
       "      <th>1</th>\n",
       "      <td>34</td>\n",
       "      <td>4</td>\n",
       "      <td>2</td>\n",
       "      <td>0</td>\n",
       "      <td>-478</td>\n",
       "      <td>1</td>\n",
       "      <td>1</td>\n",
       "      <td>0</td>\n",
       "    </tr>\n",
       "    <tr>\n",
       "      <th>2</th>\n",
       "      <td>32</td>\n",
       "      <td>3</td>\n",
       "      <td>2</td>\n",
       "      <td>0</td>\n",
       "      <td>266</td>\n",
       "      <td>1</td>\n",
       "      <td>0</td>\n",
       "      <td>0</td>\n",
       "    </tr>\n",
       "    <tr>\n",
       "      <th>3</th>\n",
       "      <td>36</td>\n",
       "      <td>7</td>\n",
       "      <td>2</td>\n",
       "      <td>1</td>\n",
       "      <td>13</td>\n",
       "      <td>0</td>\n",
       "      <td>1</td>\n",
       "      <td>0</td>\n",
       "    </tr>\n",
       "    <tr>\n",
       "      <th>4</th>\n",
       "      <td>23</td>\n",
       "      <td>11</td>\n",
       "      <td>2</td>\n",
       "      <td>0</td>\n",
       "      <td>486</td>\n",
       "      <td>0</td>\n",
       "      <td>0</td>\n",
       "      <td>0</td>\n",
       "    </tr>\n",
       "  </tbody>\n",
       "</table>\n",
       "</div>"
      ],
      "text/plain": [
       "   age  job  education  default  balance  housing  loan  y\n",
       "0   32    7          2        1     -238        1     0  0\n",
       "1   34    4          2        0     -478        1     1  0\n",
       "2   32    3          2        0      266        1     0  0\n",
       "3   36    7          2        1       13        0     1  0\n",
       "4   23   11          2        0      486        0     0  0"
      ]
     },
     "execution_count": 46,
     "metadata": {},
     "output_type": "execute_result"
    }
   ],
   "source": [
    "# Load data from S3\n",
    "df = load_data(data_location)\n",
    "df.head()"
   ]
  },
  {
   "cell_type": "code",
   "execution_count": 52,
   "metadata": {},
   "outputs": [
    {
     "name": "stdout",
     "output_type": "stream",
     "text": [
      "(44654, 8) (11164, 8)\n"
     ]
    }
   ],
   "source": [
    "# Split and shuffle data\n",
    "train_data, test_data = split_data(df, shuffle=True)\n",
    "print(train_data.shape, test_data.shape)"
   ]
  },
  {
   "cell_type": "code",
   "execution_count": 53,
   "metadata": {},
   "outputs": [],
   "source": [
    "prefix = \"step_function\"\n",
    "FILE_TRAIN = \"train.csv\"\n",
    "FILE_TEST = \"test.csv\""
   ]
  },
  {
   "cell_type": "code",
   "execution_count": 54,
   "metadata": {},
   "outputs": [
    {
     "name": "stdout",
     "output_type": "stream",
     "text": [
      "step_function/train.csv step_function/test.csv\n"
     ]
    }
   ],
   "source": [
    "train_s3_file = os.path.join(prefix, FILE_TRAIN)\n",
    "test_s3_file = os.path.join(prefix, FILE_TEST)\n",
    "print(train_s3_file, test_s3_file)"
   ]
  },
  {
   "cell_type": "code",
   "execution_count": 55,
   "metadata": {},
   "outputs": [
    {
     "data": {
      "text/plain": [
       "{'ResponseMetadata': {'RequestId': 'VFQ7SPE0YD19TXCY',\n",
       "  'HostId': '1dDe1vnrpJuG1WWTIasKpLCgdEhpKeDUG4JrhGEN+Zs5/sX7UwjsRSIKZZP6vKg0zuyD84TKhNg=',\n",
       "  'HTTPStatusCode': 200,\n",
       "  'HTTPHeaders': {'x-amz-id-2': '1dDe1vnrpJuG1WWTIasKpLCgdEhpKeDUG4JrhGEN+Zs5/sX7UwjsRSIKZZP6vKg0zuyD84TKhNg=',\n",
       "   'x-amz-request-id': 'VFQ7SPE0YD19TXCY',\n",
       "   'date': 'Tue, 09 Jan 2024 14:44:35 GMT',\n",
       "   'x-amz-server-side-encryption': 'AES256',\n",
       "   'etag': '\"cb73ebe627aa4e76d9f8c72d31e6053c\"',\n",
       "   'server': 'AmazonS3',\n",
       "   'content-length': '0'},\n",
       "  'RetryAttempts': 1},\n",
       " 'ETag': '\"cb73ebe627aa4e76d9f8c72d31e6053c\"',\n",
       " 'ServerSideEncryption': 'AES256'}"
      ]
     },
     "execution_count": 55,
     "metadata": {},
     "output_type": "execute_result"
    }
   ],
   "source": [
    "from io import StringIO\n",
    "\n",
    "# Upload the three files to Amazon S3\n",
    "\n",
    "bucket = \"streaming-data-platform-ml-data\"\n",
    "csv_buffer = StringIO()\n",
    "train_data.to_csv(csv_buffer, index=False)\n",
    "\n",
    "\n",
    "s3_resource = boto3.resource(\"s3\")\n",
    "s3_resource.Object(bucket, train_s3_file).put(Body=csv_buffer.getvalue())\n",
    "\n",
    "csv_buffer = StringIO()\n",
    "test_data.to_csv(csv_buffer, index=False)\n",
    "s3_resource = boto3.resource(\"s3\")\n",
    "s3_resource.Object(bucket, test_s3_file).put(Body=csv_buffer.getvalue())"
   ]
  },
  {
   "cell_type": "code",
   "execution_count": 17,
   "metadata": {},
   "outputs": [],
   "source": [
    "# SageMaker expects unique names for each job, model and endpoint.\n",
    "# If these names are not unique the execution will fail. Pass these\n",
    "# dynamically for each execution using placeholders.\n",
    "execution_input = ExecutionInput(\n",
    "    schema={\"JobName\": str, \"ModelName\": str, \"EndpointName\": str}\n",
    ")"
   ]
  },
  {
   "cell_type": "code",
   "execution_count": null,
   "metadata": {},
   "outputs": [],
   "source": [
    "pycaret_estimator = Estimator(\n",
    "    image_uri=\"135544376709.dkr.ecr.eu-west-1.amazonaws.com/mlops-classification-repo:latest\",\n",
    "    role=\"role\",\n",
    "    instance_count=1,\n",
    "    instance_type=\"ml.m5.large\",\n",
    "    entry_point=\"train.py\",\n",
    ")\n",
    "\n",
    "pycaret_estimator.set_hyperparameters(algorithm_choice=algorithm_choice, target=target)"
   ]
  },
  {
   "cell_type": "code",
   "execution_count": 20,
   "metadata": {},
   "outputs": [
    {
     "data": {
      "text/html": [
       "<style type=\"text/css\">\n",
       "#T_3654c_row8_col1 {\n",
       "  background-color: lightgreen;\n",
       "}\n",
       "</style>\n",
       "<table id=\"T_3654c\">\n",
       "  <thead>\n",
       "    <tr>\n",
       "      <th class=\"blank level0\" >&nbsp;</th>\n",
       "      <th id=\"T_3654c_level0_col0\" class=\"col_heading level0 col0\" >Description</th>\n",
       "      <th id=\"T_3654c_level0_col1\" class=\"col_heading level0 col1\" >Value</th>\n",
       "    </tr>\n",
       "  </thead>\n",
       "  <tbody>\n",
       "    <tr>\n",
       "      <th id=\"T_3654c_level0_row0\" class=\"row_heading level0 row0\" >0</th>\n",
       "      <td id=\"T_3654c_row0_col0\" class=\"data row0 col0\" >Session id</td>\n",
       "      <td id=\"T_3654c_row0_col1\" class=\"data row0 col1\" >123</td>\n",
       "    </tr>\n",
       "    <tr>\n",
       "      <th id=\"T_3654c_level0_row1\" class=\"row_heading level0 row1\" >1</th>\n",
       "      <td id=\"T_3654c_row1_col0\" class=\"data row1 col0\" >Target</td>\n",
       "      <td id=\"T_3654c_row1_col1\" class=\"data row1 col1\" >y</td>\n",
       "    </tr>\n",
       "    <tr>\n",
       "      <th id=\"T_3654c_level0_row2\" class=\"row_heading level0 row2\" >2</th>\n",
       "      <td id=\"T_3654c_row2_col0\" class=\"data row2 col0\" >Target type</td>\n",
       "      <td id=\"T_3654c_row2_col1\" class=\"data row2 col1\" >Binary</td>\n",
       "    </tr>\n",
       "    <tr>\n",
       "      <th id=\"T_3654c_level0_row3\" class=\"row_heading level0 row3\" >3</th>\n",
       "      <td id=\"T_3654c_row3_col0\" class=\"data row3 col0\" >Original data shape</td>\n",
       "      <td id=\"T_3654c_row3_col1\" class=\"data row3 col1\" >(44654, 8)</td>\n",
       "    </tr>\n",
       "    <tr>\n",
       "      <th id=\"T_3654c_level0_row4\" class=\"row_heading level0 row4\" >4</th>\n",
       "      <td id=\"T_3654c_row4_col0\" class=\"data row4 col0\" >Transformed data shape</td>\n",
       "      <td id=\"T_3654c_row4_col1\" class=\"data row4 col1\" >(44654, 8)</td>\n",
       "    </tr>\n",
       "    <tr>\n",
       "      <th id=\"T_3654c_level0_row5\" class=\"row_heading level0 row5\" >5</th>\n",
       "      <td id=\"T_3654c_row5_col0\" class=\"data row5 col0\" >Transformed train set shape</td>\n",
       "      <td id=\"T_3654c_row5_col1\" class=\"data row5 col1\" >(31257, 8)</td>\n",
       "    </tr>\n",
       "    <tr>\n",
       "      <th id=\"T_3654c_level0_row6\" class=\"row_heading level0 row6\" >6</th>\n",
       "      <td id=\"T_3654c_row6_col0\" class=\"data row6 col0\" >Transformed test set shape</td>\n",
       "      <td id=\"T_3654c_row6_col1\" class=\"data row6 col1\" >(13397, 8)</td>\n",
       "    </tr>\n",
       "    <tr>\n",
       "      <th id=\"T_3654c_level0_row7\" class=\"row_heading level0 row7\" >7</th>\n",
       "      <td id=\"T_3654c_row7_col0\" class=\"data row7 col0\" >Numeric features</td>\n",
       "      <td id=\"T_3654c_row7_col1\" class=\"data row7 col1\" >7</td>\n",
       "    </tr>\n",
       "    <tr>\n",
       "      <th id=\"T_3654c_level0_row8\" class=\"row_heading level0 row8\" >8</th>\n",
       "      <td id=\"T_3654c_row8_col0\" class=\"data row8 col0\" >Preprocess</td>\n",
       "      <td id=\"T_3654c_row8_col1\" class=\"data row8 col1\" >True</td>\n",
       "    </tr>\n",
       "    <tr>\n",
       "      <th id=\"T_3654c_level0_row9\" class=\"row_heading level0 row9\" >9</th>\n",
       "      <td id=\"T_3654c_row9_col0\" class=\"data row9 col0\" >Imputation type</td>\n",
       "      <td id=\"T_3654c_row9_col1\" class=\"data row9 col1\" >simple</td>\n",
       "    </tr>\n",
       "    <tr>\n",
       "      <th id=\"T_3654c_level0_row10\" class=\"row_heading level0 row10\" >10</th>\n",
       "      <td id=\"T_3654c_row10_col0\" class=\"data row10 col0\" >Numeric imputation</td>\n",
       "      <td id=\"T_3654c_row10_col1\" class=\"data row10 col1\" >mean</td>\n",
       "    </tr>\n",
       "    <tr>\n",
       "      <th id=\"T_3654c_level0_row11\" class=\"row_heading level0 row11\" >11</th>\n",
       "      <td id=\"T_3654c_row11_col0\" class=\"data row11 col0\" >Categorical imputation</td>\n",
       "      <td id=\"T_3654c_row11_col1\" class=\"data row11 col1\" >mode</td>\n",
       "    </tr>\n",
       "    <tr>\n",
       "      <th id=\"T_3654c_level0_row12\" class=\"row_heading level0 row12\" >12</th>\n",
       "      <td id=\"T_3654c_row12_col0\" class=\"data row12 col0\" >Fold Generator</td>\n",
       "      <td id=\"T_3654c_row12_col1\" class=\"data row12 col1\" >StratifiedKFold</td>\n",
       "    </tr>\n",
       "    <tr>\n",
       "      <th id=\"T_3654c_level0_row13\" class=\"row_heading level0 row13\" >13</th>\n",
       "      <td id=\"T_3654c_row13_col0\" class=\"data row13 col0\" >Fold Number</td>\n",
       "      <td id=\"T_3654c_row13_col1\" class=\"data row13 col1\" >10</td>\n",
       "    </tr>\n",
       "    <tr>\n",
       "      <th id=\"T_3654c_level0_row14\" class=\"row_heading level0 row14\" >14</th>\n",
       "      <td id=\"T_3654c_row14_col0\" class=\"data row14 col0\" >CPU Jobs</td>\n",
       "      <td id=\"T_3654c_row14_col1\" class=\"data row14 col1\" >-1</td>\n",
       "    </tr>\n",
       "    <tr>\n",
       "      <th id=\"T_3654c_level0_row15\" class=\"row_heading level0 row15\" >15</th>\n",
       "      <td id=\"T_3654c_row15_col0\" class=\"data row15 col0\" >Use GPU</td>\n",
       "      <td id=\"T_3654c_row15_col1\" class=\"data row15 col1\" >False</td>\n",
       "    </tr>\n",
       "    <tr>\n",
       "      <th id=\"T_3654c_level0_row16\" class=\"row_heading level0 row16\" >16</th>\n",
       "      <td id=\"T_3654c_row16_col0\" class=\"data row16 col0\" >Log Experiment</td>\n",
       "      <td id=\"T_3654c_row16_col1\" class=\"data row16 col1\" >False</td>\n",
       "    </tr>\n",
       "    <tr>\n",
       "      <th id=\"T_3654c_level0_row17\" class=\"row_heading level0 row17\" >17</th>\n",
       "      <td id=\"T_3654c_row17_col0\" class=\"data row17 col0\" >Experiment Name</td>\n",
       "      <td id=\"T_3654c_row17_col1\" class=\"data row17 col1\" >clf-default-name</td>\n",
       "    </tr>\n",
       "    <tr>\n",
       "      <th id=\"T_3654c_level0_row18\" class=\"row_heading level0 row18\" >18</th>\n",
       "      <td id=\"T_3654c_row18_col0\" class=\"data row18 col0\" >USI</td>\n",
       "      <td id=\"T_3654c_row18_col1\" class=\"data row18 col1\" >5b40</td>\n",
       "    </tr>\n",
       "  </tbody>\n",
       "</table>\n"
      ],
      "text/plain": [
       "<pandas.io.formats.style.Styler at 0x2a6317940>"
      ]
     },
     "metadata": {},
     "output_type": "display_data"
    },
    {
     "ename": "AttributeError",
     "evalue": "'ClassificationExperiment' object has no attribute 'prepare_workflow_for_training'",
     "output_type": "error",
     "traceback": [
      "\u001b[0;31m---------------------------------------------------------------------------\u001b[0m",
      "\u001b[0;31mAttributeError\u001b[0m                            Traceback (most recent call last)",
      "Cell \u001b[0;32mIn[20], line 1\u001b[0m\n\u001b[0;32m----> 1\u001b[0m training_step \u001b[38;5;241m=\u001b[39m \u001b[43msteps\u001b[49m\u001b[38;5;241;43m.\u001b[39;49m\u001b[43mTrainingStep\u001b[49m\u001b[43m(\u001b[49m\n\u001b[1;32m      2\u001b[0m \u001b[43m    \u001b[49m\u001b[38;5;124;43m\"\u001b[39;49m\u001b[38;5;124;43mTrain Step\u001b[39;49m\u001b[38;5;124;43m\"\u001b[39;49m\u001b[43m,\u001b[49m\n\u001b[1;32m      3\u001b[0m \u001b[43m    \u001b[49m\u001b[43mestimator\u001b[49m\u001b[38;5;241;43m=\u001b[39;49m\u001b[43mpycaret\u001b[49m\u001b[38;5;241;43m.\u001b[39;49m\u001b[43msetup\u001b[49m\u001b[43m(\u001b[49m\u001b[43mdata\u001b[49m\u001b[38;5;241;43m=\u001b[39;49m\u001b[43mtrain_data\u001b[49m\u001b[43m,\u001b[49m\u001b[43m \u001b[49m\u001b[43mtarget\u001b[49m\u001b[38;5;241;43m=\u001b[39;49m\u001b[43mtarget\u001b[49m\u001b[43m,\u001b[49m\u001b[43m \u001b[49m\u001b[43msession_id\u001b[49m\u001b[38;5;241;43m=\u001b[39;49m\u001b[38;5;241;43m123\u001b[39;49m\u001b[43m)\u001b[49m\u001b[43m,\u001b[49m\n\u001b[1;32m      4\u001b[0m \u001b[43m    \u001b[49m\u001b[43mdata\u001b[49m\u001b[38;5;241;43m=\u001b[39;49m\u001b[43m{\u001b[49m\u001b[38;5;124;43m\"\u001b[39;49m\u001b[38;5;124;43mtrain\u001b[39;49m\u001b[38;5;124;43m\"\u001b[39;49m\u001b[43m:\u001b[49m\u001b[43m \u001b[49m\u001b[43mbestModel\u001b[49m\u001b[43m}\u001b[49m\u001b[43m,\u001b[49m\n\u001b[1;32m      5\u001b[0m \u001b[43m    \u001b[49m\u001b[43mjob_name\u001b[49m\u001b[38;5;241;43m=\u001b[39;49m\u001b[43mexecution_input\u001b[49m\u001b[43m[\u001b[49m\u001b[38;5;124;43m\"\u001b[39;49m\u001b[38;5;124;43mJobName\u001b[39;49m\u001b[38;5;124;43m\"\u001b[39;49m\u001b[43m]\u001b[49m\u001b[43m,\u001b[49m\n\u001b[1;32m      6\u001b[0m \u001b[43m)\u001b[49m\n",
      "File \u001b[0;32m~/Documents/internal-projects/AWS-MLOps-module/venv/lib/python3.10/site-packages/stepfunctions/steps/sagemaker.py:113\u001b[0m, in \u001b[0;36mTrainingStep.__init__\u001b[0;34m(self, state_id, estimator, job_name, data, hyperparameters, mini_batch_size, experiment_config, wait_for_completion, tags, output_data_config_path, **kwargs)\u001b[0m\n\u001b[1;32m    111\u001b[0m     training_parameters \u001b[38;5;241m=\u001b[39m training_config(estimator\u001b[38;5;241m=\u001b[39mestimator, inputs\u001b[38;5;241m=\u001b[39mdata, job_name\u001b[38;5;241m=\u001b[39mjob_name, mini_batch_size\u001b[38;5;241m=\u001b[39mmini_batch_size)\n\u001b[1;32m    112\u001b[0m \u001b[38;5;28;01melse\u001b[39;00m:\n\u001b[0;32m--> 113\u001b[0m     training_parameters \u001b[38;5;241m=\u001b[39m \u001b[43mtraining_config\u001b[49m\u001b[43m(\u001b[49m\u001b[43mestimator\u001b[49m\u001b[38;5;241;43m=\u001b[39;49m\u001b[43mestimator\u001b[49m\u001b[43m,\u001b[49m\u001b[43m \u001b[49m\u001b[43minputs\u001b[49m\u001b[38;5;241;43m=\u001b[39;49m\u001b[43mdata\u001b[49m\u001b[43m,\u001b[49m\u001b[43m \u001b[49m\u001b[43mmini_batch_size\u001b[49m\u001b[38;5;241;43m=\u001b[39;49m\u001b[43mmini_batch_size\u001b[49m\u001b[43m)\u001b[49m\n\u001b[1;32m    115\u001b[0m \u001b[38;5;28;01mif\u001b[39;00m estimator\u001b[38;5;241m.\u001b[39mdebugger_hook_config \u001b[38;5;241m!=\u001b[39m \u001b[38;5;28;01mNone\u001b[39;00m \u001b[38;5;129;01mand\u001b[39;00m estimator\u001b[38;5;241m.\u001b[39mdebugger_hook_config \u001b[38;5;129;01mis\u001b[39;00m \u001b[38;5;129;01mnot\u001b[39;00m \u001b[38;5;28;01mFalse\u001b[39;00m:\n\u001b[1;32m    116\u001b[0m     training_parameters[\u001b[38;5;124m'\u001b[39m\u001b[38;5;124mDebugHookConfig\u001b[39m\u001b[38;5;124m'\u001b[39m] \u001b[38;5;241m=\u001b[39m estimator\u001b[38;5;241m.\u001b[39mdebugger_hook_config\u001b[38;5;241m.\u001b[39m_to_request_dict()\n",
      "File \u001b[0;32m~/Documents/internal-projects/AWS-MLOps-module/venv/lib/python3.10/site-packages/sagemaker/workflow/airflow.py:256\u001b[0m, in \u001b[0;36mtraining_config\u001b[0;34m(estimator, inputs, job_name, mini_batch_size)\u001b[0m\n\u001b[1;32m    220\u001b[0m \u001b[38;5;28;01mdef\u001b[39;00m \u001b[38;5;21mtraining_config\u001b[39m(estimator, inputs\u001b[38;5;241m=\u001b[39m\u001b[38;5;28;01mNone\u001b[39;00m, job_name\u001b[38;5;241m=\u001b[39m\u001b[38;5;28;01mNone\u001b[39;00m, mini_batch_size\u001b[38;5;241m=\u001b[39m\u001b[38;5;28;01mNone\u001b[39;00m):\n\u001b[1;32m    221\u001b[0m \u001b[38;5;250m    \u001b[39m\u001b[38;5;124;03m\"\"\"Export Airflow training config from an estimator\u001b[39;00m\n\u001b[1;32m    222\u001b[0m \n\u001b[1;32m    223\u001b[0m \u001b[38;5;124;03m    Args:\u001b[39;00m\n\u001b[0;32m   (...)\u001b[0m\n\u001b[1;32m    253\u001b[0m \u001b[38;5;124;03m        SageMakerTrainingOperator in Airflow.\u001b[39;00m\n\u001b[1;32m    254\u001b[0m \u001b[38;5;124;03m    \"\"\"\u001b[39;00m\n\u001b[0;32m--> 256\u001b[0m     train_config \u001b[38;5;241m=\u001b[39m \u001b[43mtraining_base_config\u001b[49m\u001b[43m(\u001b[49m\u001b[43mestimator\u001b[49m\u001b[43m,\u001b[49m\u001b[43m \u001b[49m\u001b[43minputs\u001b[49m\u001b[43m,\u001b[49m\u001b[43m \u001b[49m\u001b[43mjob_name\u001b[49m\u001b[43m,\u001b[49m\u001b[43m \u001b[49m\u001b[43mmini_batch_size\u001b[49m\u001b[43m)\u001b[49m\n\u001b[1;32m    258\u001b[0m     train_config[\u001b[38;5;124m\"\u001b[39m\u001b[38;5;124mTrainingJobName\u001b[39m\u001b[38;5;124m\"\u001b[39m] \u001b[38;5;241m=\u001b[39m estimator\u001b[38;5;241m.\u001b[39m_current_job_name\n\u001b[1;32m    260\u001b[0m     \u001b[38;5;28;01mif\u001b[39;00m estimator\u001b[38;5;241m.\u001b[39mtags \u001b[38;5;129;01mis\u001b[39;00m \u001b[38;5;129;01mnot\u001b[39;00m \u001b[38;5;28;01mNone\u001b[39;00m:\n",
      "File \u001b[0;32m~/Documents/internal-projects/AWS-MLOps-module/venv/lib/python3.10/site-packages/sagemaker/workflow/airflow.py:153\u001b[0m, in \u001b[0;36mtraining_base_config\u001b[0;34m(estimator, inputs, job_name, mini_batch_size)\u001b[0m\n\u001b[1;32m    149\u001b[0m     estimator\u001b[38;5;241m.\u001b[39mprepare_workflow_for_training(\n\u001b[1;32m    150\u001b[0m         records\u001b[38;5;241m=\u001b[39minputs, mini_batch_size\u001b[38;5;241m=\u001b[39mmini_batch_size, job_name\u001b[38;5;241m=\u001b[39mjob_name\n\u001b[1;32m    151\u001b[0m     )\n\u001b[1;32m    152\u001b[0m \u001b[38;5;28;01melse\u001b[39;00m:\n\u001b[0;32m--> 153\u001b[0m     \u001b[43mestimator\u001b[49m\u001b[38;5;241;43m.\u001b[39;49m\u001b[43mprepare_workflow_for_training\u001b[49m(job_name\u001b[38;5;241m=\u001b[39mjob_name)\n\u001b[1;32m    155\u001b[0m s3_operations \u001b[38;5;241m=\u001b[39m {}\n\u001b[1;32m    157\u001b[0m \u001b[38;5;28;01mif\u001b[39;00m job_name \u001b[38;5;129;01mis\u001b[39;00m \u001b[38;5;129;01mnot\u001b[39;00m \u001b[38;5;28;01mNone\u001b[39;00m:\n",
      "\u001b[0;31mAttributeError\u001b[0m: 'ClassificationExperiment' object has no attribute 'prepare_workflow_for_training'"
     ]
    }
   ],
   "source": [
    "training_step = steps.TrainingStep(\n",
    "    \"Train Step\",\n",
    "    estimator=pycaret_estimator,\n",
    "    data={\"train\": data_location},\n",
    "    job_name=execution_input[\"JobName\"],\n",
    ")"
   ]
  },
  {
   "cell_type": "code",
   "execution_count": null,
   "metadata": {},
   "outputs": [],
   "source": []
  }
 ],
 "metadata": {
  "kernelspec": {
   "display_name": "venv",
   "language": "python",
   "name": "python3"
  },
  "language_info": {
   "codemirror_mode": {
    "name": "ipython",
    "version": 3
   },
   "file_extension": ".py",
   "mimetype": "text/x-python",
   "name": "python",
   "nbconvert_exporter": "python",
   "pygments_lexer": "ipython3",
   "version": "3.10.13"
  }
 },
 "nbformat": 4,
 "nbformat_minor": 2
}
