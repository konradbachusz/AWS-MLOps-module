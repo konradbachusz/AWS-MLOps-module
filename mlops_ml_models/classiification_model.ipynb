{
 "cells": [
  {
   "cell_type": "code",
   "execution_count": null,
   "metadata": {},
   "outputs": [],
   "source": [
    "!pip install pycaret\n",
    "!pip install python-dotenv"
   ]
  },
  {
   "cell_type": "markdown",
   "metadata": {},
   "source": [
    "<h3>1. Introduction </h3>\n",
    "This template notebook will give users (data scientists and data engineers) the opportunities to train and deploy regression machine learning models with ease, without having to write all of the code from scratch. <br> \n",
    "There are a few requirements for the user anyway, such as;\n",
    "<li>the data location</li> \n",
    "<li>the target (dependent) variable in your dataset and</li>\n",
    "<li>what kind of machine learning algorithm you will be performing. </li>\n",
    "\n",
    "All of these values will be entered in terraform and will be automatically applied in the notebook. "
   ]
  },
  {
   "cell_type": "markdown",
   "metadata": {},
   "source": [
    "<h3>2. Imports</h3>\n",
    "\n",
    "The libraries that are required for this model notebook are imported below "
   ]
  },
  {
   "cell_type": "code",
   "execution_count": null,
   "metadata": {},
   "outputs": [],
   "source": [
    "import boto3, os, tarfile\n",
    "from sagemaker import get_execution_role\n",
    "from dotenv import load_dotenv\n",
    "from load_data import load_data\n",
    "from split_data import split_data\n",
    "import importlib\n",
    "from save_model_to_s3 import save_model_to_s3\n",
    "from deploy_model_endpoint import deploy_model"
   ]
  },
  {
   "cell_type": "markdown",
   "metadata": {},
   "source": [
    "<h3>3. Loading Data</h3>\n",
    "Here the user is required to specify the location of the data that they will like to use for prediction. An helper function is used to load the data from S3. \n",
    "\n",
    "<em>Note: Your data needs to be an s3 bucket.</em>"
   ]
  },
  {
   "cell_type": "code",
   "execution_count": null,
   "metadata": {},
   "outputs": [],
   "source": [
    "# Variables Setup Stage\n",
    "load_dotenv(\".env\")\n",
    "role = get_execution_role()\n",
    "\n",
    "# Env variables\n",
    "data_location_s3 = os.getenv(\"data_location_s3\")\n",
    "algorithm_choice = os.getenv(\"algorithm_choice\")\n",
    "target = os.getenv(\"target\")\n",
    "endpoint_name = os.getenv(\"endpoint_name\")\n",
    "model_name = os.getenv(\"model_name\")\n",
    "data_location = 's3://{}'.format(data_location_s3)\n",
    "# pycaret_ecr_name = os.getenv(\"pycaret_ecr_name\")\n",
    "# instance_type = os.getenv(\"instance_type\")\n",
    "\n",
    "# print(data_location_s3, algorithm_choice, target, endpoint_name, model_name, data_location, pycaret_ecr_name, instance_type)"
   ]
  },
  {
   "cell_type": "markdown",
   "metadata": {},
   "source": [
    "<h3>4. Read and display a sample of data</h3>"
   ]
  },
  {
   "cell_type": "code",
   "execution_count": null,
   "metadata": {},
   "outputs": [],
   "source": [
    "# Load data from S3\n",
    "df = load_data(data_location)\n",
    "df.head() "
   ]
  },
  {
   "cell_type": "markdown",
   "metadata": {},
   "source": [
    "## Importing Pycaret"
   ]
  },
  {
   "cell_type": "markdown",
   "metadata": {},
   "source": [
    "<h3>5. Data Exploration</h3>"
   ]
  },
  {
   "cell_type": "code",
   "execution_count": null,
   "metadata": {},
   "outputs": [],
   "source": [
    "# Split and shuffle data\n",
    "train_data, test_data = split_data(df, shuffle=True)\n",
    "print(train_data, test_data)"
   ]
  },
  {
   "cell_type": "code",
   "execution_count": null,
   "metadata": {},
   "outputs": [],
   "source": [
    "# Import Pycaret library depending on the algorithm choice\n",
    "pycaret = importlib.import_module(f\"pycaret.{algorithm_choice}\")"
   ]
  },
  {
   "cell_type": "code",
   "execution_count": null,
   "metadata": {},
   "outputs": [],
   "source": [
    "# Initialize data in PyCaret with all the defined parameters\n",
    "pycaret.setup(data=train_data, target=target, session_id=123)"
   ]
  },
  {
   "cell_type": "markdown",
   "metadata": {},
   "source": [
    "<h3>6. Feature Engineering and Model Training</h3>\n",
    "\n",
    "Here we are using the pycaret automl tool to train the model. The automl tool tries a number of machine learning algorithms depending on the type of machine learning problem you are trying to solve <br>\n",
    "(regression, classification or time series). The automl tool then selects the best model based on the accuracy metrics of the tried models. "
   ]
  },
  {
   "cell_type": "code",
   "execution_count": null,
   "metadata": {},
   "outputs": [],
   "source": [
    "# Train and evaluate the performance of all estimators available in the model library using cross-validation.\n",
    "bestModel = pycaret.compare_models()"
   ]
  },
  {
   "cell_type": "markdown",
   "metadata": {},
   "source": [
    "<h3>7. Model Evaluation: </h3>\n",
    "\n",
    "Here we evaluate the performance of the best model, getting some visual representation of hyperparameters, features and other important details about the selected model.\n"
   ]
  },
  {
   "cell_type": "code",
   "execution_count": null,
   "metadata": {},
   "outputs": [],
   "source": [
    "# Evaluate model: Display UI analyzing Hyperparameters, Confusion Matrix, Class Report, etc.\n",
    "pycaret.evaluate_model(bestModel)"
   ]
  },
  {
   "cell_type": "markdown",
   "metadata": {},
   "source": [
    "<h3>8. Saving Model for future predition</h3>\n",
    "\n",
    "Here we are using a function that saves the model to s3. "
   ]
  },
  {
   "cell_type": "code",
   "execution_count": null,
   "metadata": {},
   "outputs": [],
   "source": [
    "# Finalise model with validation data\n",
    "final_model = pycaret.finalize_model(bestModel)\n"
   ]
  },
  {
   "cell_type": "code",
   "execution_count": null,
   "metadata": {},
   "outputs": [],
   "source": [
    "# save model locally\n",
    "pycaret.save_model(final_model, model_name)"
   ]
  },
  {
   "cell_type": "code",
   "execution_count": null,
   "metadata": {},
   "outputs": [],
   "source": [
    "# Upload model to s3\n",
    "save_model_to_s3(model_name, f'{model_name}-model', final_model)"
   ]
  },
  {
   "cell_type": "markdown",
   "metadata": {},
   "source": [
    "<h3>9. Deploying the model endpoints</h3> \n",
    "\n",
    "Here we use a function that creates the model endpoint in sagemaker. "
   ]
  },
  {
   "cell_type": "code",
   "execution_count": null,
   "metadata": {},
   "outputs": [],
   "source": [
    "# deploy model to sagemaker endpoint\n",
    "deploy_model(model_name, pycaret_ecr_name, instance_type, endpoint_name, role)"
   ]
  },
  {
   "cell_type": "markdown",
   "metadata": {},
   "source": [
    "# Clean up stage\n",
    "## Remove Endpoint and Endpoint Config"
   ]
  },
  {
   "cell_type": "code",
   "execution_count": null,
   "metadata": {},
   "outputs": [],
   "source": [
    "# Create a low-level SageMaker service client.\n",
    "my_region = boto3.session.Session().region_name\n",
    "sagemaker_client = boto3.client('sagemaker', region_name=my_region)\n",
    "\n",
    "# Delete endpoint\n",
    "sagemaker_client.delete_endpoint(EndpointName=endpoint_name)\n",
    "\n",
    "# Delete endpoint configuration\n",
    "sagemaker_client.delete_endpoint_config(EndpointConfigName=endpoint_name)"
   ]
  }
 ],
 "metadata": {
  "kernelspec": {
   "display_name": "venv",
   "language": "python",
   "name": "python3"
  },
  "language_info": {
   "codemirror_mode": {
    "name": "ipython",
    "version": 3
   },
   "file_extension": ".py",
   "mimetype": "text/x-python",
   "name": "python",
   "nbconvert_exporter": "python",
   "pygments_lexer": "ipython3",
   "version": "3.9.6"
  }
 },
 "nbformat": 4,
 "nbformat_minor": 2
}
