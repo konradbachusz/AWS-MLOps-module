{
 "cells": [
  {
   "cell_type": "code",
   "execution_count": 1,
   "metadata": {},
   "outputs": [
    {
     "name": "stdout",
     "output_type": "stream",
     "text": [
      "Defaulting to user installation because normal site-packages is not writeable\n",
      "Requirement already satisfied: pycaret in /Users/kong.nopwattanapong/Library/Python/3.9/lib/python/site-packages (3.1.0)\n",
      "Requirement already satisfied: ipython>=5.5.0 in /Users/kong.nopwattanapong/Library/Python/3.9/lib/python/site-packages (from pycaret) (8.15.0)\n",
      "Requirement already satisfied: ipywidgets>=7.6.5 in /Users/kong.nopwattanapong/Library/Python/3.9/lib/python/site-packages (from pycaret) (8.1.1)\n",
      "Requirement already satisfied: tqdm>=4.62.0 in /Users/kong.nopwattanapong/Library/Python/3.9/lib/python/site-packages (from pycaret) (4.66.1)\n",
      "Requirement already satisfied: numpy<1.24,>=1.21 in /Users/kong.nopwattanapong/Library/Python/3.9/lib/python/site-packages (from pycaret) (1.23.5)\n",
      "Requirement already satisfied: pandas<2.0.0,>=1.3.0 in /Users/kong.nopwattanapong/Library/Python/3.9/lib/python/site-packages (from pycaret) (1.5.3)\n",
      "Requirement already satisfied: jinja2>=1.2 in /Users/kong.nopwattanapong/Library/Python/3.9/lib/python/site-packages (from pycaret) (3.1.2)\n",
      "Requirement already satisfied: scipy~=1.10.1 in /Users/kong.nopwattanapong/Library/Python/3.9/lib/python/site-packages (from pycaret) (1.10.1)\n",
      "Requirement already satisfied: joblib>=1.2.0 in /Users/kong.nopwattanapong/Library/Python/3.9/lib/python/site-packages (from pycaret) (1.3.2)\n",
      "Requirement already satisfied: scikit-learn<1.3.0,>=1.0 in /Users/kong.nopwattanapong/Library/Python/3.9/lib/python/site-packages (from pycaret) (1.2.2)\n",
      "Requirement already satisfied: pyod>=1.0.8 in /Users/kong.nopwattanapong/Library/Python/3.9/lib/python/site-packages (from pycaret) (1.1.0)\n",
      "Requirement already satisfied: imbalanced-learn>=0.8.1 in /Users/kong.nopwattanapong/Library/Python/3.9/lib/python/site-packages (from pycaret) (0.11.0)\n",
      "Requirement already satisfied: category-encoders>=2.4.0 in /Users/kong.nopwattanapong/Library/Python/3.9/lib/python/site-packages (from pycaret) (2.6.2)\n",
      "Requirement already satisfied: lightgbm>=3.0.0 in /Users/kong.nopwattanapong/Library/Python/3.9/lib/python/site-packages (from pycaret) (4.1.0)\n",
      "Requirement already satisfied: numba>=0.55.0 in /Users/kong.nopwattanapong/Library/Python/3.9/lib/python/site-packages (from pycaret) (0.58.0)\n",
      "Requirement already satisfied: requests>=2.27.1 in /Users/kong.nopwattanapong/Library/Python/3.9/lib/python/site-packages (from pycaret) (2.31.0)\n",
      "Requirement already satisfied: psutil>=5.9.0 in /Users/kong.nopwattanapong/Library/Python/3.9/lib/python/site-packages (from pycaret) (5.9.5)\n",
      "Requirement already satisfied: markupsafe>=2.0.1 in /Users/kong.nopwattanapong/Library/Python/3.9/lib/python/site-packages (from pycaret) (2.1.3)\n",
      "Requirement already satisfied: importlib-metadata>=4.12.0 in /Users/kong.nopwattanapong/Library/Python/3.9/lib/python/site-packages (from pycaret) (6.8.0)\n",
      "Requirement already satisfied: nbformat>=4.2.0 in /Users/kong.nopwattanapong/Library/Python/3.9/lib/python/site-packages (from pycaret) (5.9.2)\n",
      "Requirement already satisfied: cloudpickle in /Users/kong.nopwattanapong/Library/Python/3.9/lib/python/site-packages (from pycaret) (2.2.1)\n",
      "Requirement already satisfied: deprecation>=2.1.0 in /Users/kong.nopwattanapong/Library/Python/3.9/lib/python/site-packages (from pycaret) (2.1.0)\n",
      "Requirement already satisfied: xxhash in /Users/kong.nopwattanapong/Library/Python/3.9/lib/python/site-packages (from pycaret) (3.4.1)\n",
      "Requirement already satisfied: matplotlib>=3.3.0 in /Users/kong.nopwattanapong/Library/Python/3.9/lib/python/site-packages (from pycaret) (3.8.0)\n",
      "Requirement already satisfied: scikit-plot>=0.3.7 in /Users/kong.nopwattanapong/Library/Python/3.9/lib/python/site-packages (from pycaret) (0.3.7)\n",
      "Requirement already satisfied: yellowbrick>=1.4 in /Users/kong.nopwattanapong/Library/Python/3.9/lib/python/site-packages (from pycaret) (1.5)\n",
      "Requirement already satisfied: plotly>=5.0.0 in /Users/kong.nopwattanapong/Library/Python/3.9/lib/python/site-packages (from pycaret) (5.17.0)\n",
      "Requirement already satisfied: kaleido>=0.2.1 in /Users/kong.nopwattanapong/Library/Python/3.9/lib/python/site-packages (from pycaret) (0.2.1)\n",
      "Requirement already satisfied: schemdraw==0.15 in /Users/kong.nopwattanapong/Library/Python/3.9/lib/python/site-packages (from pycaret) (0.15)\n",
      "Requirement already satisfied: plotly-resampler>=0.8.3.1 in /Users/kong.nopwattanapong/Library/Python/3.9/lib/python/site-packages (from pycaret) (0.9.1)\n",
      "Requirement already satisfied: statsmodels>=0.12.1 in /Users/kong.nopwattanapong/Library/Python/3.9/lib/python/site-packages (from pycaret) (0.14.0)\n",
      "Requirement already satisfied: sktime!=0.17.1,!=0.17.2,!=0.18.0,<0.22.0,>=0.16.1 in /Users/kong.nopwattanapong/Library/Python/3.9/lib/python/site-packages (from pycaret) (0.21.1)\n",
      "Requirement already satisfied: tbats>=1.1.3 in /Users/kong.nopwattanapong/Library/Python/3.9/lib/python/site-packages (from pycaret) (1.1.3)\n",
      "Requirement already satisfied: pmdarima!=1.8.1,<3.0.0,>=1.8.0 in /Users/kong.nopwattanapong/Library/Python/3.9/lib/python/site-packages (from pycaret) (2.0.3)\n",
      "Requirement already satisfied: wurlitzer in /Users/kong.nopwattanapong/Library/Python/3.9/lib/python/site-packages (from pycaret) (3.0.3)\n",
      "Requirement already satisfied: patsy>=0.5.1 in /Users/kong.nopwattanapong/Library/Python/3.9/lib/python/site-packages (from category-encoders>=2.4.0->pycaret) (0.5.3)\n",
      "Requirement already satisfied: packaging in /Users/kong.nopwattanapong/Library/Python/3.9/lib/python/site-packages (from deprecation>=2.1.0->pycaret) (23.1)\n",
      "Requirement already satisfied: threadpoolctl>=2.0.0 in /Users/kong.nopwattanapong/Library/Python/3.9/lib/python/site-packages (from imbalanced-learn>=0.8.1->pycaret) (3.2.0)\n",
      "Requirement already satisfied: zipp>=0.5 in /Users/kong.nopwattanapong/Library/Python/3.9/lib/python/site-packages (from importlib-metadata>=4.12.0->pycaret) (3.17.0)\n",
      "Requirement already satisfied: backcall in /Users/kong.nopwattanapong/Library/Python/3.9/lib/python/site-packages (from ipython>=5.5.0->pycaret) (0.2.0)\n",
      "Requirement already satisfied: decorator in /Users/kong.nopwattanapong/Library/Python/3.9/lib/python/site-packages (from ipython>=5.5.0->pycaret) (5.1.1)\n",
      "Requirement already satisfied: jedi>=0.16 in /Users/kong.nopwattanapong/Library/Python/3.9/lib/python/site-packages (from ipython>=5.5.0->pycaret) (0.19.0)\n",
      "Requirement already satisfied: matplotlib-inline in /Users/kong.nopwattanapong/Library/Python/3.9/lib/python/site-packages (from ipython>=5.5.0->pycaret) (0.1.6)\n",
      "Requirement already satisfied: pickleshare in /Users/kong.nopwattanapong/Library/Python/3.9/lib/python/site-packages (from ipython>=5.5.0->pycaret) (0.7.5)\n",
      "Requirement already satisfied: prompt-toolkit!=3.0.37,<3.1.0,>=3.0.30 in /Users/kong.nopwattanapong/Library/Python/3.9/lib/python/site-packages (from ipython>=5.5.0->pycaret) (3.0.39)\n",
      "Requirement already satisfied: pygments>=2.4.0 in /Users/kong.nopwattanapong/Library/Python/3.9/lib/python/site-packages (from ipython>=5.5.0->pycaret) (2.16.1)\n",
      "Requirement already satisfied: stack-data in /Users/kong.nopwattanapong/Library/Python/3.9/lib/python/site-packages (from ipython>=5.5.0->pycaret) (0.6.2)\n",
      "Requirement already satisfied: traitlets>=5 in /Users/kong.nopwattanapong/Library/Python/3.9/lib/python/site-packages (from ipython>=5.5.0->pycaret) (5.10.1)\n",
      "Requirement already satisfied: typing-extensions in /Users/kong.nopwattanapong/Library/Python/3.9/lib/python/site-packages (from ipython>=5.5.0->pycaret) (4.8.0)\n",
      "Requirement already satisfied: exceptiongroup in /Users/kong.nopwattanapong/Library/Python/3.9/lib/python/site-packages (from ipython>=5.5.0->pycaret) (1.1.3)\n",
      "Requirement already satisfied: pexpect>4.3 in /Users/kong.nopwattanapong/Library/Python/3.9/lib/python/site-packages (from ipython>=5.5.0->pycaret) (4.8.0)\n",
      "Requirement already satisfied: appnope in /Users/kong.nopwattanapong/Library/Python/3.9/lib/python/site-packages (from ipython>=5.5.0->pycaret) (0.1.3)\n",
      "Requirement already satisfied: comm>=0.1.3 in /Users/kong.nopwattanapong/Library/Python/3.9/lib/python/site-packages (from ipywidgets>=7.6.5->pycaret) (0.1.4)\n",
      "Requirement already satisfied: widgetsnbextension~=4.0.9 in /Users/kong.nopwattanapong/Library/Python/3.9/lib/python/site-packages (from ipywidgets>=7.6.5->pycaret) (4.0.9)\n",
      "Requirement already satisfied: jupyterlab-widgets~=3.0.9 in /Users/kong.nopwattanapong/Library/Python/3.9/lib/python/site-packages (from ipywidgets>=7.6.5->pycaret) (3.0.9)\n",
      "Requirement already satisfied: contourpy>=1.0.1 in /Users/kong.nopwattanapong/Library/Python/3.9/lib/python/site-packages (from matplotlib>=3.3.0->pycaret) (1.1.1)\n",
      "Requirement already satisfied: cycler>=0.10 in /Users/kong.nopwattanapong/Library/Python/3.9/lib/python/site-packages (from matplotlib>=3.3.0->pycaret) (0.12.0)\n",
      "Requirement already satisfied: fonttools>=4.22.0 in /Users/kong.nopwattanapong/Library/Python/3.9/lib/python/site-packages (from matplotlib>=3.3.0->pycaret) (4.43.0)\n",
      "Requirement already satisfied: kiwisolver>=1.0.1 in /Users/kong.nopwattanapong/Library/Python/3.9/lib/python/site-packages (from matplotlib>=3.3.0->pycaret) (1.4.5)\n",
      "Requirement already satisfied: pillow>=6.2.0 in /Users/kong.nopwattanapong/Library/Python/3.9/lib/python/site-packages (from matplotlib>=3.3.0->pycaret) (10.0.1)\n",
      "Requirement already satisfied: pyparsing>=2.3.1 in /Users/kong.nopwattanapong/Library/Python/3.9/lib/python/site-packages (from matplotlib>=3.3.0->pycaret) (3.1.1)\n",
      "Requirement already satisfied: python-dateutil>=2.7 in /Users/kong.nopwattanapong/Library/Python/3.9/lib/python/site-packages (from matplotlib>=3.3.0->pycaret) (2.8.2)\n",
      "Requirement already satisfied: importlib-resources>=3.2.0 in /Users/kong.nopwattanapong/Library/Python/3.9/lib/python/site-packages (from matplotlib>=3.3.0->pycaret) (6.1.0)\n",
      "Requirement already satisfied: fastjsonschema in /Users/kong.nopwattanapong/Library/Python/3.9/lib/python/site-packages (from nbformat>=4.2.0->pycaret) (2.18.1)\n",
      "Requirement already satisfied: jsonschema>=2.6 in /Users/kong.nopwattanapong/Library/Python/3.9/lib/python/site-packages (from nbformat>=4.2.0->pycaret) (4.19.1)\n",
      "Requirement already satisfied: jupyter-core in /Users/kong.nopwattanapong/Library/Python/3.9/lib/python/site-packages (from nbformat>=4.2.0->pycaret) (5.3.2)\n",
      "Requirement already satisfied: llvmlite<0.42,>=0.41.0dev0 in /Users/kong.nopwattanapong/Library/Python/3.9/lib/python/site-packages (from numba>=0.55.0->pycaret) (0.41.0)\n",
      "Requirement already satisfied: pytz>=2020.1 in /Users/kong.nopwattanapong/Library/Python/3.9/lib/python/site-packages (from pandas<2.0.0,>=1.3.0->pycaret) (2023.3.post1)\n",
      "Requirement already satisfied: tenacity>=6.2.0 in /Users/kong.nopwattanapong/Library/Python/3.9/lib/python/site-packages (from plotly>=5.0.0->pycaret) (8.2.3)\n",
      "Requirement already satisfied: dash<3.0.0,>=2.11.0 in /Users/kong.nopwattanapong/Library/Python/3.9/lib/python/site-packages (from plotly-resampler>=0.8.3.1->pycaret) (2.13.0)\n",
      "Requirement already satisfied: orjson<4.0.0,>=3.8.0 in /Users/kong.nopwattanapong/Library/Python/3.9/lib/python/site-packages (from plotly-resampler>=0.8.3.1->pycaret) (3.9.7)\n",
      "Requirement already satisfied: trace-updater>=0.0.8 in /Users/kong.nopwattanapong/Library/Python/3.9/lib/python/site-packages (from plotly-resampler>=0.8.3.1->pycaret) (0.0.9.1)\n",
      "Requirement already satisfied: tsdownsample==0.1.2 in /Users/kong.nopwattanapong/Library/Python/3.9/lib/python/site-packages (from plotly-resampler>=0.8.3.1->pycaret) (0.1.2)\n",
      "Requirement already satisfied: Cython!=0.29.18,!=0.29.31,>=0.29 in /Users/kong.nopwattanapong/Library/Python/3.9/lib/python/site-packages (from pmdarima!=1.8.1,<3.0.0,>=1.8.0->pycaret) (3.0.2)\n",
      "Requirement already satisfied: urllib3 in /Users/kong.nopwattanapong/Library/Python/3.9/lib/python/site-packages (from pmdarima!=1.8.1,<3.0.0,>=1.8.0->pycaret) (1.26.18)\n",
      "Requirement already satisfied: setuptools!=50.0.0,>=38.6.0 in /Library/Developer/CommandLineTools/Library/Frameworks/Python3.framework/Versions/3.9/lib/python3.9/site-packages (from pmdarima!=1.8.1,<3.0.0,>=1.8.0->pycaret) (58.0.4)\n",
      "Requirement already satisfied: six in /Library/Developer/CommandLineTools/Library/Frameworks/Python3.framework/Versions/3.9/lib/python3.9/site-packages (from pyod>=1.0.8->pycaret) (1.15.0)\n",
      "Requirement already satisfied: charset-normalizer<4,>=2 in /Users/kong.nopwattanapong/Library/Python/3.9/lib/python/site-packages (from requests>=2.27.1->pycaret) (3.3.0)\n",
      "Requirement already satisfied: idna<4,>=2.5 in /Users/kong.nopwattanapong/Library/Python/3.9/lib/python/site-packages (from requests>=2.27.1->pycaret) (3.4)\n",
      "Requirement already satisfied: certifi>=2017.4.17 in /Users/kong.nopwattanapong/Library/Python/3.9/lib/python/site-packages (from requests>=2.27.1->pycaret) (2023.7.22)\n",
      "Requirement already satisfied: deprecated>=1.2.13 in /Users/kong.nopwattanapong/Library/Python/3.9/lib/python/site-packages (from sktime!=0.17.1,!=0.17.2,!=0.18.0,<0.22.0,>=0.16.1->pycaret) (1.2.14)\n",
      "Requirement already satisfied: scikit-base<0.6.0 in /Users/kong.nopwattanapong/Library/Python/3.9/lib/python/site-packages (from sktime!=0.17.1,!=0.17.2,!=0.18.0,<0.22.0,>=0.16.1->pycaret) (0.5.2)\n",
      "Requirement already satisfied: Flask<2.3.0,>=1.0.4 in /Users/kong.nopwattanapong/Library/Python/3.9/lib/python/site-packages (from dash<3.0.0,>=2.11.0->plotly-resampler>=0.8.3.1->pycaret) (2.2.5)\n",
      "Requirement already satisfied: Werkzeug<2.3.0 in /Users/kong.nopwattanapong/Library/Python/3.9/lib/python/site-packages (from dash<3.0.0,>=2.11.0->plotly-resampler>=0.8.3.1->pycaret) (2.2.3)\n",
      "Requirement already satisfied: dash-html-components==2.0.0 in /Users/kong.nopwattanapong/Library/Python/3.9/lib/python/site-packages (from dash<3.0.0,>=2.11.0->plotly-resampler>=0.8.3.1->pycaret) (2.0.0)\n",
      "Requirement already satisfied: dash-core-components==2.0.0 in /Users/kong.nopwattanapong/Library/Python/3.9/lib/python/site-packages (from dash<3.0.0,>=2.11.0->plotly-resampler>=0.8.3.1->pycaret) (2.0.0)\n",
      "Requirement already satisfied: dash-table==5.0.0 in /Users/kong.nopwattanapong/Library/Python/3.9/lib/python/site-packages (from dash<3.0.0,>=2.11.0->plotly-resampler>=0.8.3.1->pycaret) (5.0.0)\n",
      "Requirement already satisfied: retrying in /Users/kong.nopwattanapong/Library/Python/3.9/lib/python/site-packages (from dash<3.0.0,>=2.11.0->plotly-resampler>=0.8.3.1->pycaret) (1.3.4)\n",
      "Requirement already satisfied: ansi2html in /Users/kong.nopwattanapong/Library/Python/3.9/lib/python/site-packages (from dash<3.0.0,>=2.11.0->plotly-resampler>=0.8.3.1->pycaret) (1.8.0)\n",
      "Requirement already satisfied: nest-asyncio in /Users/kong.nopwattanapong/Library/Python/3.9/lib/python/site-packages (from dash<3.0.0,>=2.11.0->plotly-resampler>=0.8.3.1->pycaret) (1.5.8)\n",
      "Requirement already satisfied: wrapt<2,>=1.10 in /Users/kong.nopwattanapong/Library/Python/3.9/lib/python/site-packages (from deprecated>=1.2.13->sktime!=0.17.1,!=0.17.2,!=0.18.0,<0.22.0,>=0.16.1->pycaret) (1.15.0)\n",
      "Requirement already satisfied: parso<0.9.0,>=0.8.3 in /Users/kong.nopwattanapong/Library/Python/3.9/lib/python/site-packages (from jedi>=0.16->ipython>=5.5.0->pycaret) (0.8.3)\n",
      "Requirement already satisfied: attrs>=22.2.0 in /Users/kong.nopwattanapong/Library/Python/3.9/lib/python/site-packages (from jsonschema>=2.6->nbformat>=4.2.0->pycaret) (23.1.0)\n",
      "Requirement already satisfied: jsonschema-specifications>=2023.03.6 in /Users/kong.nopwattanapong/Library/Python/3.9/lib/python/site-packages (from jsonschema>=2.6->nbformat>=4.2.0->pycaret) (2023.7.1)\n",
      "Requirement already satisfied: referencing>=0.28.4 in /Users/kong.nopwattanapong/Library/Python/3.9/lib/python/site-packages (from jsonschema>=2.6->nbformat>=4.2.0->pycaret) (0.30.2)\n",
      "Requirement already satisfied: rpds-py>=0.7.1 in /Users/kong.nopwattanapong/Library/Python/3.9/lib/python/site-packages (from jsonschema>=2.6->nbformat>=4.2.0->pycaret) (0.10.4)\n",
      "Requirement already satisfied: ptyprocess>=0.5 in /Users/kong.nopwattanapong/Library/Python/3.9/lib/python/site-packages (from pexpect>4.3->ipython>=5.5.0->pycaret) (0.7.0)\n",
      "Requirement already satisfied: wcwidth in /Users/kong.nopwattanapong/Library/Python/3.9/lib/python/site-packages (from prompt-toolkit!=3.0.37,<3.1.0,>=3.0.30->ipython>=5.5.0->pycaret) (0.2.6)\n",
      "Requirement already satisfied: platformdirs>=2.5 in /Users/kong.nopwattanapong/Library/Python/3.9/lib/python/site-packages (from jupyter-core->nbformat>=4.2.0->pycaret) (3.10.0)\n",
      "Requirement already satisfied: executing>=1.2.0 in /Users/kong.nopwattanapong/Library/Python/3.9/lib/python/site-packages (from stack-data->ipython>=5.5.0->pycaret) (1.2.0)\n",
      "Requirement already satisfied: asttokens>=2.1.0 in /Users/kong.nopwattanapong/Library/Python/3.9/lib/python/site-packages (from stack-data->ipython>=5.5.0->pycaret) (2.4.0)\n",
      "Requirement already satisfied: pure-eval in /Users/kong.nopwattanapong/Library/Python/3.9/lib/python/site-packages (from stack-data->ipython>=5.5.0->pycaret) (0.2.2)\n",
      "Requirement already satisfied: itsdangerous>=2.0 in /Users/kong.nopwattanapong/Library/Python/3.9/lib/python/site-packages (from Flask<2.3.0,>=1.0.4->dash<3.0.0,>=2.11.0->plotly-resampler>=0.8.3.1->pycaret) (2.1.2)\n",
      "Requirement already satisfied: click>=8.0 in /Users/kong.nopwattanapong/Library/Python/3.9/lib/python/site-packages (from Flask<2.3.0,>=1.0.4->dash<3.0.0,>=2.11.0->plotly-resampler>=0.8.3.1->pycaret) (8.1.7)\n",
      "\n",
      "\u001b[1m[\u001b[0m\u001b[34;49mnotice\u001b[0m\u001b[1;39;49m]\u001b[0m\u001b[39;49m A new release of pip is available: \u001b[0m\u001b[31;49m23.2.1\u001b[0m\u001b[39;49m -> \u001b[0m\u001b[32;49m23.3.1\u001b[0m\n",
      "\u001b[1m[\u001b[0m\u001b[34;49mnotice\u001b[0m\u001b[1;39;49m]\u001b[0m\u001b[39;49m To update, run: \u001b[0m\u001b[32;49m/Library/Developer/CommandLineTools/usr/bin/python3 -m pip install --upgrade pip\u001b[0m\n",
      "Defaulting to user installation because normal site-packages is not writeable\n",
      "Requirement already satisfied: python-dotenv in /Users/kong.nopwattanapong/Library/Python/3.9/lib/python/site-packages (1.0.0)\n",
      "\n",
      "\u001b[1m[\u001b[0m\u001b[34;49mnotice\u001b[0m\u001b[1;39;49m]\u001b[0m\u001b[39;49m A new release of pip is available: \u001b[0m\u001b[31;49m23.2.1\u001b[0m\u001b[39;49m -> \u001b[0m\u001b[32;49m23.3.1\u001b[0m\n",
      "\u001b[1m[\u001b[0m\u001b[34;49mnotice\u001b[0m\u001b[1;39;49m]\u001b[0m\u001b[39;49m To update, run: \u001b[0m\u001b[32;49m/Library/Developer/CommandLineTools/usr/bin/python3 -m pip install --upgrade pip\u001b[0m\n",
      "Defaulting to user installation because normal site-packages is not writeable\n",
      "Collecting ydata-profiling\n",
      "  Obtaining dependency information for ydata-profiling from https://files.pythonhosted.org/packages/0a/cb/d946b8ab543dfcd6cdf66eb3dfe1d6b39dfdede57b3c8e9115822b3c7bee/ydata_profiling-4.6.2-py2.py3-none-any.whl.metadata\n",
      "  Downloading ydata_profiling-4.6.2-py2.py3-none-any.whl.metadata (20 kB)\n",
      "Requirement already satisfied: scipy<1.12,>=1.4.1 in /Users/kong.nopwattanapong/Library/Python/3.9/lib/python/site-packages (from ydata-profiling) (1.10.1)\n",
      "Requirement already satisfied: pandas!=1.4.0,<2.1,>1.1 in /Users/kong.nopwattanapong/Library/Python/3.9/lib/python/site-packages (from ydata-profiling) (1.5.3)\n",
      "Collecting matplotlib<=3.7.3,>=3.2 (from ydata-profiling)\n",
      "  Obtaining dependency information for matplotlib<=3.7.3,>=3.2 from https://files.pythonhosted.org/packages/91/d6/61019704b9d9bb10a94c979a7e35785f526bc65fd9b548fd513eaae2e49c/matplotlib-3.7.3-cp39-cp39-macosx_11_0_arm64.whl.metadata\n",
      "  Downloading matplotlib-3.7.3-cp39-cp39-macosx_11_0_arm64.whl.metadata (5.7 kB)\n",
      "Collecting pydantic>=2 (from ydata-profiling)\n",
      "  Obtaining dependency information for pydantic>=2 from https://files.pythonhosted.org/packages/0a/2b/64066de1c4cf3d4ed623beeb3bbf3f8d0cc26661f1e7d180ec5eb66b75a5/pydantic-2.5.2-py3-none-any.whl.metadata\n",
      "  Downloading pydantic-2.5.2-py3-none-any.whl.metadata (65 kB)\n",
      "\u001b[2K     \u001b[90m━━━━━━━━━━━━━━━━━━━━━━━━━━━━━━━━━━━━━━━━\u001b[0m \u001b[32m65.2/65.2 kB\u001b[0m \u001b[31m4.4 MB/s\u001b[0m eta \u001b[36m0:00:00\u001b[0m\n",
      "\u001b[?25hRequirement already satisfied: PyYAML<6.1,>=5.0.0 in /Users/kong.nopwattanapong/Library/Python/3.9/lib/python/site-packages (from ydata-profiling) (6.0.1)\n",
      "Requirement already satisfied: jinja2<3.2,>=2.11.1 in /Users/kong.nopwattanapong/Library/Python/3.9/lib/python/site-packages (from ydata-profiling) (3.1.2)\n",
      "Collecting visions[type_image_path]==0.7.5 (from ydata-profiling)\n",
      "  Using cached visions-0.7.5-py3-none-any.whl (102 kB)\n",
      "Requirement already satisfied: numpy<1.26,>=1.16.0 in /Users/kong.nopwattanapong/Library/Python/3.9/lib/python/site-packages (from ydata-profiling) (1.23.5)\n",
      "Collecting htmlmin==0.1.12 (from ydata-profiling)\n",
      "  Using cached htmlmin-0.1.12.tar.gz (19 kB)\n",
      "  Preparing metadata (setup.py) ... \u001b[?25ldone\n",
      "\u001b[?25hCollecting phik<0.13,>=0.11.1 (from ydata-profiling)\n",
      "  Downloading phik-0.12.3-cp39-cp39-macosx_11_0_arm64.whl (649 kB)\n",
      "\u001b[2K     \u001b[90m━━━━━━━━━━━━━━━━━━━━━━━━━━━━━━━━━━━━━━━\u001b[0m \u001b[32m649.9/649.9 kB\u001b[0m \u001b[31m8.3 MB/s\u001b[0m eta \u001b[36m0:00:00\u001b[0m00:01\u001b[0m00:01\u001b[0m\n",
      "\u001b[?25hRequirement already satisfied: requests<3,>=2.24.0 in /Users/kong.nopwattanapong/Library/Python/3.9/lib/python/site-packages (from ydata-profiling) (2.31.0)\n",
      "Requirement already satisfied: tqdm<5,>=4.48.2 in /Users/kong.nopwattanapong/Library/Python/3.9/lib/python/site-packages (from ydata-profiling) (4.66.1)\n",
      "Collecting seaborn<0.13,>=0.10.1 (from ydata-profiling)\n",
      "  Using cached seaborn-0.12.2-py3-none-any.whl (293 kB)\n",
      "Collecting multimethod<2,>=1.4 (from ydata-profiling)\n",
      "  Obtaining dependency information for multimethod<2,>=1.4 from https://files.pythonhosted.org/packages/7f/bd/750245e47e7f307d9f94d4fa84727f4ed9956005dfa671d58be1d531a0f6/multimethod-1.10-py3-none-any.whl.metadata\n",
      "  Using cached multimethod-1.10-py3-none-any.whl.metadata (8.2 kB)\n",
      "Requirement already satisfied: statsmodels<1,>=0.13.2 in /Users/kong.nopwattanapong/Library/Python/3.9/lib/python/site-packages (from ydata-profiling) (0.14.0)\n",
      "Collecting typeguard<5,>=4.1.2 (from ydata-profiling)\n",
      "  Obtaining dependency information for typeguard<5,>=4.1.2 from https://files.pythonhosted.org/packages/18/01/5fc45558268ced46d86292763477996a3cdd505567cd590a688e8cdc386e/typeguard-4.1.5-py3-none-any.whl.metadata\n",
      "  Downloading typeguard-4.1.5-py3-none-any.whl.metadata (3.7 kB)\n",
      "Collecting imagehash==4.3.1 (from ydata-profiling)\n",
      "  Using cached ImageHash-4.3.1-py2.py3-none-any.whl (296 kB)\n",
      "Collecting wordcloud>=1.9.1 (from ydata-profiling)\n",
      "  Using cached wordcloud-1.9.2.tar.gz (222 kB)\n",
      "  Preparing metadata (setup.py) ... \u001b[?25ldone\n",
      "\u001b[?25hCollecting dacite>=1.8 (from ydata-profiling)\n",
      "  Obtaining dependency information for dacite>=1.8 from https://files.pythonhosted.org/packages/21/0f/cf0943f4f55f0fbc7c6bd60caf1343061dff818b02af5a0d444e473bb78d/dacite-1.8.1-py3-none-any.whl.metadata\n",
      "  Using cached dacite-1.8.1-py3-none-any.whl.metadata (15 kB)\n",
      "Requirement already satisfied: numba<0.59.0,>=0.56.0 in /Users/kong.nopwattanapong/Library/Python/3.9/lib/python/site-packages (from ydata-profiling) (0.58.0)\n",
      "Collecting PyWavelets (from imagehash==4.3.1->ydata-profiling)\n",
      "  Obtaining dependency information for PyWavelets from https://files.pythonhosted.org/packages/46/76/83c185662c782b71807fe84fa92f74d0f930661457aaf180f7163b4d5e59/pywavelets-1.5.0-cp39-cp39-macosx_11_0_arm64.whl.metadata\n",
      "  Downloading pywavelets-1.5.0-cp39-cp39-macosx_11_0_arm64.whl.metadata (9.0 kB)\n",
      "Requirement already satisfied: pillow in /Users/kong.nopwattanapong/Library/Python/3.9/lib/python/site-packages (from imagehash==4.3.1->ydata-profiling) (10.0.1)\n",
      "Requirement already satisfied: attrs>=19.3.0 in /Users/kong.nopwattanapong/Library/Python/3.9/lib/python/site-packages (from visions[type_image_path]==0.7.5->ydata-profiling) (23.1.0)\n",
      "Collecting networkx>=2.4 (from visions[type_image_path]==0.7.5->ydata-profiling)\n",
      "  Obtaining dependency information for networkx>=2.4 from https://files.pythonhosted.org/packages/d5/f0/8fbc882ca80cf077f1b246c0e3c3465f7f415439bdea6b899f6b19f61f70/networkx-3.2.1-py3-none-any.whl.metadata\n",
      "  Downloading networkx-3.2.1-py3-none-any.whl.metadata (5.2 kB)\n",
      "Collecting tangled-up-in-unicode>=0.0.4 (from visions[type_image_path]==0.7.5->ydata-profiling)\n",
      "  Using cached tangled_up_in_unicode-0.2.0-py3-none-any.whl (4.7 MB)\n",
      "Requirement already satisfied: MarkupSafe>=2.0 in /Users/kong.nopwattanapong/Library/Python/3.9/lib/python/site-packages (from jinja2<3.2,>=2.11.1->ydata-profiling) (2.1.3)\n",
      "Requirement already satisfied: contourpy>=1.0.1 in /Users/kong.nopwattanapong/Library/Python/3.9/lib/python/site-packages (from matplotlib<=3.7.3,>=3.2->ydata-profiling) (1.1.1)\n",
      "Requirement already satisfied: cycler>=0.10 in /Users/kong.nopwattanapong/Library/Python/3.9/lib/python/site-packages (from matplotlib<=3.7.3,>=3.2->ydata-profiling) (0.12.0)\n",
      "Requirement already satisfied: fonttools>=4.22.0 in /Users/kong.nopwattanapong/Library/Python/3.9/lib/python/site-packages (from matplotlib<=3.7.3,>=3.2->ydata-profiling) (4.43.0)\n",
      "Requirement already satisfied: kiwisolver>=1.0.1 in /Users/kong.nopwattanapong/Library/Python/3.9/lib/python/site-packages (from matplotlib<=3.7.3,>=3.2->ydata-profiling) (1.4.5)\n",
      "Requirement already satisfied: packaging>=20.0 in /Users/kong.nopwattanapong/Library/Python/3.9/lib/python/site-packages (from matplotlib<=3.7.3,>=3.2->ydata-profiling) (23.1)\n",
      "Requirement already satisfied: pyparsing>=2.3.1 in /Users/kong.nopwattanapong/Library/Python/3.9/lib/python/site-packages (from matplotlib<=3.7.3,>=3.2->ydata-profiling) (3.1.1)\n",
      "Requirement already satisfied: python-dateutil>=2.7 in /Users/kong.nopwattanapong/Library/Python/3.9/lib/python/site-packages (from matplotlib<=3.7.3,>=3.2->ydata-profiling) (2.8.2)\n",
      "Requirement already satisfied: importlib-resources>=3.2.0 in /Users/kong.nopwattanapong/Library/Python/3.9/lib/python/site-packages (from matplotlib<=3.7.3,>=3.2->ydata-profiling) (6.1.0)\n",
      "Requirement already satisfied: llvmlite<0.42,>=0.41.0dev0 in /Users/kong.nopwattanapong/Library/Python/3.9/lib/python/site-packages (from numba<0.59.0,>=0.56.0->ydata-profiling) (0.41.0)\n",
      "Requirement already satisfied: pytz>=2020.1 in /Users/kong.nopwattanapong/Library/Python/3.9/lib/python/site-packages (from pandas!=1.4.0,<2.1,>1.1->ydata-profiling) (2023.3.post1)\n",
      "Requirement already satisfied: joblib>=0.14.1 in /Users/kong.nopwattanapong/Library/Python/3.9/lib/python/site-packages (from phik<0.13,>=0.11.1->ydata-profiling) (1.3.2)\n",
      "Collecting annotated-types>=0.4.0 (from pydantic>=2->ydata-profiling)\n",
      "  Obtaining dependency information for annotated-types>=0.4.0 from https://files.pythonhosted.org/packages/28/78/d31230046e58c207284c6b2c4e8d96e6d3cb4e52354721b944d3e1ee4aa5/annotated_types-0.6.0-py3-none-any.whl.metadata\n",
      "  Downloading annotated_types-0.6.0-py3-none-any.whl.metadata (12 kB)\n",
      "Collecting pydantic-core==2.14.5 (from pydantic>=2->ydata-profiling)\n",
      "  Obtaining dependency information for pydantic-core==2.14.5 from https://files.pythonhosted.org/packages/bf/d2/4820db26970effb5d6fdee68f578585448b2eb6dd7344ab55b20958a0874/pydantic_core-2.14.5-cp39-cp39-macosx_11_0_arm64.whl.metadata\n",
      "  Downloading pydantic_core-2.14.5-cp39-cp39-macosx_11_0_arm64.whl.metadata (6.5 kB)\n",
      "Requirement already satisfied: typing-extensions>=4.6.1 in /Users/kong.nopwattanapong/Library/Python/3.9/lib/python/site-packages (from pydantic>=2->ydata-profiling) (4.8.0)\n",
      "Requirement already satisfied: charset-normalizer<4,>=2 in /Users/kong.nopwattanapong/Library/Python/3.9/lib/python/site-packages (from requests<3,>=2.24.0->ydata-profiling) (3.3.0)\n",
      "Requirement already satisfied: idna<4,>=2.5 in /Users/kong.nopwattanapong/Library/Python/3.9/lib/python/site-packages (from requests<3,>=2.24.0->ydata-profiling) (3.4)\n",
      "Requirement already satisfied: urllib3<3,>=1.21.1 in /Users/kong.nopwattanapong/Library/Python/3.9/lib/python/site-packages (from requests<3,>=2.24.0->ydata-profiling) (1.26.18)\n",
      "Requirement already satisfied: certifi>=2017.4.17 in /Users/kong.nopwattanapong/Library/Python/3.9/lib/python/site-packages (from requests<3,>=2.24.0->ydata-profiling) (2023.7.22)\n",
      "Requirement already satisfied: patsy>=0.5.2 in /Users/kong.nopwattanapong/Library/Python/3.9/lib/python/site-packages (from statsmodels<1,>=0.13.2->ydata-profiling) (0.5.3)\n",
      "Requirement already satisfied: importlib-metadata>=3.6 in /Users/kong.nopwattanapong/Library/Python/3.9/lib/python/site-packages (from typeguard<5,>=4.1.2->ydata-profiling) (6.8.0)\n",
      "Requirement already satisfied: zipp>=0.5 in /Users/kong.nopwattanapong/Library/Python/3.9/lib/python/site-packages (from importlib-metadata>=3.6->typeguard<5,>=4.1.2->ydata-profiling) (3.17.0)\n",
      "Requirement already satisfied: six in /Library/Developer/CommandLineTools/Library/Frameworks/Python3.framework/Versions/3.9/lib/python3.9/site-packages (from patsy>=0.5.2->statsmodels<1,>=0.13.2->ydata-profiling) (1.15.0)\n",
      "Downloading ydata_profiling-4.6.2-py2.py3-none-any.whl (357 kB)\n",
      "\u001b[2K   \u001b[90m━━━━━━━━━━━━━━━━━━━━━━━━━━━━━━━━━━━━━━━━\u001b[0m \u001b[32m357.5/357.5 kB\u001b[0m \u001b[31m16.9 MB/s\u001b[0m eta \u001b[36m0:00:00\u001b[0m\n",
      "\u001b[?25hUsing cached dacite-1.8.1-py3-none-any.whl (14 kB)\n",
      "Downloading matplotlib-3.7.3-cp39-cp39-macosx_11_0_arm64.whl (7.3 MB)\n",
      "\u001b[2K   \u001b[90m━━━━━━━━━━━━━━━━━━━━━━━━━━━━━━━━━━━━━━━━\u001b[0m \u001b[32m7.3/7.3 MB\u001b[0m \u001b[31m10.4 MB/s\u001b[0m eta \u001b[36m0:00:00\u001b[0m00:01\u001b[0m00:01\u001b[0m\n",
      "\u001b[?25hUsing cached multimethod-1.10-py3-none-any.whl (9.9 kB)\n",
      "Downloading pydantic-2.5.2-py3-none-any.whl (381 kB)\n",
      "\u001b[2K   \u001b[90m━━━━━━━━━━━━━━━━━━━━━━━━━━━━━━━━━━━━━━━━\u001b[0m \u001b[32m381.9/381.9 kB\u001b[0m \u001b[31m14.9 MB/s\u001b[0m eta \u001b[36m0:00:00\u001b[0m\n",
      "\u001b[?25hDownloading pydantic_core-2.14.5-cp39-cp39-macosx_11_0_arm64.whl (1.7 MB)\n",
      "\u001b[2K   \u001b[90m━━━━━━━━━━━━━━━━━━━━━━━━━━━━━━━━━━━━━━━━\u001b[0m \u001b[32m1.7/1.7 MB\u001b[0m \u001b[31m19.0 MB/s\u001b[0m eta \u001b[36m0:00:00\u001b[0ma \u001b[36m0:00:01\u001b[0m\n",
      "\u001b[?25hDownloading typeguard-4.1.5-py3-none-any.whl (34 kB)\n",
      "Downloading annotated_types-0.6.0-py3-none-any.whl (12 kB)\n",
      "Downloading networkx-3.2.1-py3-none-any.whl (1.6 MB)\n",
      "\u001b[2K   \u001b[90m━━━━━━━━━━━━━━━━━━━━━━━━━━━━━━━━━━━━━━━━\u001b[0m \u001b[32m1.6/1.6 MB\u001b[0m \u001b[31m15.9 MB/s\u001b[0m eta \u001b[36m0:00:00\u001b[0ma \u001b[36m0:00:01\u001b[0m\n",
      "\u001b[?25hDownloading pywavelets-1.5.0-cp39-cp39-macosx_11_0_arm64.whl (4.3 MB)\n",
      "\u001b[2K   \u001b[90m━━━━━━━━━━━━━━━━━━━━━━━━━━━━━━━━━━━━━━━━\u001b[0m \u001b[32m4.3/4.3 MB\u001b[0m \u001b[31m22.2 MB/s\u001b[0m eta \u001b[36m0:00:00\u001b[0m00:01\u001b[0m00:01\u001b[0m\n",
      "\u001b[?25hBuilding wheels for collected packages: htmlmin, wordcloud\n",
      "  Building wheel for htmlmin (setup.py) ... \u001b[?25ldone\n",
      "\u001b[?25h  Created wheel for htmlmin: filename=htmlmin-0.1.12-py3-none-any.whl size=27098 sha256=7338e72f48b2227550222375abee909e28fed1d237541b63574f188253f047e0\n",
      "  Stored in directory: /Users/kong.nopwattanapong/Library/Caches/pip/wheels/1d/05/04/c6d7d3b66539d9e659ac6dfe81e2d0fd4c1a8316cc5a403300\n",
      "  Building wheel for wordcloud (setup.py) ... \u001b[?25ldone\n",
      "\u001b[?25h  Created wheel for wordcloud: filename=wordcloud-1.9.2-cp39-cp39-macosx_10_9_universal2.whl size=218054 sha256=9b91f89c6ea0ed0b12cf143f70406e529a6147af47a1099fcd812c42b4ba50da\n",
      "  Stored in directory: /Users/kong.nopwattanapong/Library/Caches/pip/wheels/fd/79/b1/1e0a49160de8dfb17c54736cc73759e1d26f9343b61c0d5441\n",
      "Successfully built htmlmin wordcloud\n",
      "Installing collected packages: htmlmin, tangled-up-in-unicode, PyWavelets, pydantic-core, networkx, multimethod, dacite, annotated-types, typeguard, pydantic, matplotlib, imagehash, wordcloud, visions, seaborn, phik, ydata-profiling\n",
      "  Attempting uninstall: matplotlib\n",
      "    Found existing installation: matplotlib 3.8.0\n",
      "    Uninstalling matplotlib-3.8.0:\n",
      "      Successfully uninstalled matplotlib-3.8.0\n",
      "Successfully installed PyWavelets-1.5.0 annotated-types-0.6.0 dacite-1.8.1 htmlmin-0.1.12 imagehash-4.3.1 matplotlib-3.7.3 multimethod-1.10 networkx-3.2.1 phik-0.12.3 pydantic-2.5.2 pydantic-core-2.14.5 seaborn-0.12.2 tangled-up-in-unicode-0.2.0 typeguard-4.1.5 visions-0.7.5 wordcloud-1.9.2 ydata-profiling-4.6.2\n",
      "\n",
      "\u001b[1m[\u001b[0m\u001b[34;49mnotice\u001b[0m\u001b[1;39;49m]\u001b[0m\u001b[39;49m A new release of pip is available: \u001b[0m\u001b[31;49m23.2.1\u001b[0m\u001b[39;49m -> \u001b[0m\u001b[32;49m23.3.1\u001b[0m\n",
      "\u001b[1m[\u001b[0m\u001b[34;49mnotice\u001b[0m\u001b[1;39;49m]\u001b[0m\u001b[39;49m To update, run: \u001b[0m\u001b[32;49m/Library/Developer/CommandLineTools/usr/bin/python3 -m pip install --upgrade pip\u001b[0m\n",
      "Defaulting to user installation because normal site-packages is not writeable\n",
      "Collecting shap\n",
      "  Obtaining dependency information for shap from https://files.pythonhosted.org/packages/b0/dd/f233bb4bac8d083c5bb0c79e9e19541a580daff1dd5381e1f2e7486cc25e/shap-0.43.0-cp39-cp39-macosx_11_0_arm64.whl.metadata\n",
      "  Downloading shap-0.43.0-cp39-cp39-macosx_11_0_arm64.whl.metadata (24 kB)\n",
      "Requirement already satisfied: numpy in /Users/kong.nopwattanapong/Library/Python/3.9/lib/python/site-packages (from shap) (1.23.5)\n",
      "Requirement already satisfied: scipy in /Users/kong.nopwattanapong/Library/Python/3.9/lib/python/site-packages (from shap) (1.10.1)\n",
      "Requirement already satisfied: scikit-learn in /Users/kong.nopwattanapong/Library/Python/3.9/lib/python/site-packages (from shap) (1.2.2)\n",
      "Requirement already satisfied: pandas in /Users/kong.nopwattanapong/Library/Python/3.9/lib/python/site-packages (from shap) (1.5.3)\n",
      "Requirement already satisfied: tqdm>=4.27.0 in /Users/kong.nopwattanapong/Library/Python/3.9/lib/python/site-packages (from shap) (4.66.1)\n",
      "Requirement already satisfied: packaging>20.9 in /Users/kong.nopwattanapong/Library/Python/3.9/lib/python/site-packages (from shap) (23.1)\n",
      "Collecting slicer==0.0.7 (from shap)\n",
      "  Downloading slicer-0.0.7-py3-none-any.whl (14 kB)\n",
      "Requirement already satisfied: numba in /Users/kong.nopwattanapong/Library/Python/3.9/lib/python/site-packages (from shap) (0.58.0)\n",
      "Requirement already satisfied: cloudpickle in /Users/kong.nopwattanapong/Library/Python/3.9/lib/python/site-packages (from shap) (2.2.1)\n",
      "Requirement already satisfied: llvmlite<0.42,>=0.41.0dev0 in /Users/kong.nopwattanapong/Library/Python/3.9/lib/python/site-packages (from numba->shap) (0.41.0)\n",
      "Requirement already satisfied: python-dateutil>=2.8.1 in /Users/kong.nopwattanapong/Library/Python/3.9/lib/python/site-packages (from pandas->shap) (2.8.2)\n",
      "Requirement already satisfied: pytz>=2020.1 in /Users/kong.nopwattanapong/Library/Python/3.9/lib/python/site-packages (from pandas->shap) (2023.3.post1)\n",
      "Requirement already satisfied: joblib>=1.1.1 in /Users/kong.nopwattanapong/Library/Python/3.9/lib/python/site-packages (from scikit-learn->shap) (1.3.2)\n",
      "Requirement already satisfied: threadpoolctl>=2.0.0 in /Users/kong.nopwattanapong/Library/Python/3.9/lib/python/site-packages (from scikit-learn->shap) (3.2.0)\n",
      "Requirement already satisfied: six>=1.5 in /Library/Developer/CommandLineTools/Library/Frameworks/Python3.framework/Versions/3.9/lib/python3.9/site-packages (from python-dateutil>=2.8.1->pandas->shap) (1.15.0)\n",
      "Downloading shap-0.43.0-cp39-cp39-macosx_11_0_arm64.whl (445 kB)\n",
      "\u001b[2K   \u001b[90m━━━━━━━━━━━━━━━━━━━━━━━━━━━━━━━━━━━━━━━━\u001b[0m \u001b[32m445.4/445.4 kB\u001b[0m \u001b[31m12.8 MB/s\u001b[0m eta \u001b[36m0:00:00\u001b[0m\n",
      "\u001b[?25hInstalling collected packages: slicer, shap\n",
      "Successfully installed shap-0.43.0 slicer-0.0.7\n",
      "\n",
      "\u001b[1m[\u001b[0m\u001b[34;49mnotice\u001b[0m\u001b[1;39;49m]\u001b[0m\u001b[39;49m A new release of pip is available: \u001b[0m\u001b[31;49m23.2.1\u001b[0m\u001b[39;49m -> \u001b[0m\u001b[32;49m23.3.1\u001b[0m\n",
      "\u001b[1m[\u001b[0m\u001b[34;49mnotice\u001b[0m\u001b[1;39;49m]\u001b[0m\u001b[39;49m To update, run: \u001b[0m\u001b[32;49m/Library/Developer/CommandLineTools/usr/bin/python3 -m pip install --upgrade pip\u001b[0m\n"
     ]
    }
   ],
   "source": [
    "!pip install pycaret\n",
    "!pip install python-dotenv\n",
    "!pip install ydata-profiling\n",
    "!pip install shap"
   ]
  },
  {
   "cell_type": "markdown",
   "metadata": {},
   "source": [
    "<h3>1. Introduction </h3>\n",
    "This template notebook will give users (data scientists and data engineers) the opportunities to train and deploy regression machine learning models with ease, without having to write all of the code from scratch. <br> \n",
    "There are a few requirements for the user anyway, such as;\n",
    "<li>the data location</li> \n",
    "<li>algorithm_choice: what type of machine learning model you are trying to build. Regression, classification, time series etc.</li>\n",
    "<li>the target (dependent) variable in your dataset and</li>\n",
    "<li>endpoint_name: what you will like to call your endpoint after it is created</li>\n",
    "<li>model_name: what you will like to call your model</li>\n",
    "<li>data_location: the location of the datasets. Needs to be in an S3 bucket.</li>\n",
    "<li>pycaret_ecr_name: what you have named the ecr image that you created </li>\n",
    "<li>instance_type: the details of the instance type that you will be creating. </li>\n",
    "\n",
    "<b>All of these values will be entered in terraform and will be automatically applied in the notebook.</b>"
   ]
  },
  {
   "cell_type": "markdown",
   "metadata": {},
   "source": [
    "<h3>2. Imports</h3>\n",
    "\n",
    "The libraries that are required for this model notebook are imported below "
   ]
  },
  {
   "cell_type": "code",
   "execution_count": 2,
   "metadata": {},
   "outputs": [
    {
     "name": "stdout",
     "output_type": "stream",
     "text": [
      "sagemaker.config INFO - Not applying SDK defaults from location: /Library/Application Support/sagemaker/config.yaml\n",
      "sagemaker.config INFO - Not applying SDK defaults from location: /Users/kong.nopwattanapong/Library/Application Support/sagemaker/config.yaml\n"
     ]
    }
   ],
   "source": [
    "import os\n",
    "from sagemaker import get_execution_role\n",
    "from dotenv import load_dotenv\n",
    "from load_data import load_data\n",
    "from split_data import split_data\n",
    "import importlib\n",
    "from save_model_to_s3 import save_model_to_s3\n",
    "from deploy_model_endpoint import deploy_model\n",
    "from finalize_and_save_model import finalize_and_save_model\n",
    "from delete_sagemaker_endpoint import delete_sagemaker_endpoint\n",
    "from ydata_profiling import ProfileReport"
   ]
  },
  {
   "cell_type": "markdown",
   "metadata": {},
   "source": [
    "<h3>3. Loading Data</h3>\n",
    "Here the user is required to specify the location of the data that they will like to use for prediction. An helper function is used to load the data from S3. \n",
    "\n",
    "<em>Note: Your data needs to be an s3 bucket.</em>"
   ]
  },
  {
   "cell_type": "code",
   "execution_count": 4,
   "metadata": {},
   "outputs": [
    {
     "name": "stdout",
     "output_type": "stream",
     "text": [
      "sagemaker.config INFO - Not applying SDK defaults from location: /Library/Application Support/sagemaker/config.yaml\n",
      "sagemaker.config INFO - Not applying SDK defaults from location: /Users/kong.nopwattanapong/Library/Application Support/sagemaker/config.yaml\n",
      "streaming-data-platform-ml-data/ethan_data.csv classification y lanre-trial-endpoint lanre-test s3://streaming-data-platform-ml-data/ethan_data.csv ml.m4.xlarge\n"
     ]
    }
   ],
   "source": [
    "# Variables Setup Stage\n",
    "load_dotenv(\".env\")\n",
    "role = get_execution_role()\n",
    "\n",
    "# Env variables\n",
    "data_location_s3 = os.getenv(\"data_location_s3\")\n",
    "algorithm_choice = os.getenv(\"algorithm_choice\")\n",
    "target = os.getenv(\"target\")\n",
    "endpoint_name = os.getenv(\"endpoint_name\")\n",
    "model_name = os.getenv(\"model_name\")\n",
    "data_location = 's3://{}'.format(data_location_s3)\n",
    "instance_type = os.getenv(\"instance_type\")\n",
    "model_instance_count = int(os.getenv(\"model_instance_count\"))\n",
    "# image_uri = os.getenv(\"ecr_repo_uri\")\n",
    "\n",
    "print(data_location_s3, algorithm_choice, target, endpoint_name, model_name, data_location, instance_type)"
   ]
  },
  {
   "cell_type": "markdown",
   "metadata": {},
   "source": [
    "<h3>4. Read and display a sample of data</h3>"
   ]
  },
  {
   "cell_type": "code",
   "execution_count": 5,
   "metadata": {},
   "outputs": [
    {
     "data": {
      "text/html": [
       "<div>\n",
       "<style scoped>\n",
       "    .dataframe tbody tr th:only-of-type {\n",
       "        vertical-align: middle;\n",
       "    }\n",
       "\n",
       "    .dataframe tbody tr th {\n",
       "        vertical-align: top;\n",
       "    }\n",
       "\n",
       "    .dataframe thead th {\n",
       "        text-align: right;\n",
       "    }\n",
       "</style>\n",
       "<table border=\"1\" class=\"dataframe\">\n",
       "  <thead>\n",
       "    <tr style=\"text-align: right;\">\n",
       "      <th></th>\n",
       "      <th>age</th>\n",
       "      <th>job</th>\n",
       "      <th>education</th>\n",
       "      <th>default</th>\n",
       "      <th>balance</th>\n",
       "      <th>housing</th>\n",
       "      <th>loan</th>\n",
       "      <th>y</th>\n",
       "    </tr>\n",
       "  </thead>\n",
       "  <tbody>\n",
       "    <tr>\n",
       "      <th>0</th>\n",
       "      <td>32</td>\n",
       "      <td>7</td>\n",
       "      <td>2</td>\n",
       "      <td>1</td>\n",
       "      <td>-238</td>\n",
       "      <td>1</td>\n",
       "      <td>0</td>\n",
       "      <td>0</td>\n",
       "    </tr>\n",
       "    <tr>\n",
       "      <th>1</th>\n",
       "      <td>34</td>\n",
       "      <td>4</td>\n",
       "      <td>2</td>\n",
       "      <td>0</td>\n",
       "      <td>-478</td>\n",
       "      <td>1</td>\n",
       "      <td>1</td>\n",
       "      <td>0</td>\n",
       "    </tr>\n",
       "    <tr>\n",
       "      <th>2</th>\n",
       "      <td>32</td>\n",
       "      <td>3</td>\n",
       "      <td>2</td>\n",
       "      <td>0</td>\n",
       "      <td>266</td>\n",
       "      <td>1</td>\n",
       "      <td>0</td>\n",
       "      <td>0</td>\n",
       "    </tr>\n",
       "    <tr>\n",
       "      <th>3</th>\n",
       "      <td>36</td>\n",
       "      <td>7</td>\n",
       "      <td>2</td>\n",
       "      <td>1</td>\n",
       "      <td>13</td>\n",
       "      <td>0</td>\n",
       "      <td>1</td>\n",
       "      <td>0</td>\n",
       "    </tr>\n",
       "    <tr>\n",
       "      <th>4</th>\n",
       "      <td>23</td>\n",
       "      <td>11</td>\n",
       "      <td>2</td>\n",
       "      <td>0</td>\n",
       "      <td>486</td>\n",
       "      <td>0</td>\n",
       "      <td>0</td>\n",
       "      <td>0</td>\n",
       "    </tr>\n",
       "  </tbody>\n",
       "</table>\n",
       "</div>"
      ],
      "text/plain": [
       "   age  job  education  default  balance  housing  loan  y\n",
       "0   32    7          2        1     -238        1     0  0\n",
       "1   34    4          2        0     -478        1     1  0\n",
       "2   32    3          2        0      266        1     0  0\n",
       "3   36    7          2        1       13        0     1  0\n",
       "4   23   11          2        0      486        0     0  0"
      ]
     },
     "execution_count": 5,
     "metadata": {},
     "output_type": "execute_result"
    }
   ],
   "source": [
    "# Load data from S3\n",
    "df = load_data(data_location)\n",
    "df.head() "
   ]
  },
  {
   "cell_type": "markdown",
   "metadata": {},
   "source": [
    "<h3>5. Data Exploration</h3>"
   ]
  },
  {
   "cell_type": "code",
   "execution_count": 6,
   "metadata": {},
   "outputs": [
    {
     "data": {
      "application/vnd.jupyter.widget-view+json": {
       "model_id": "d9dd654dced545cc94220db042cff254",
       "version_major": 2,
       "version_minor": 0
      },
      "text/plain": [
       "Summarize dataset:   0%|          | 0/5 [00:00<?, ?it/s]"
      ]
     },
     "metadata": {},
     "output_type": "display_data"
    },
    {
     "data": {
      "application/vnd.jupyter.widget-view+json": {
       "model_id": "1639813e00d64f37951fe0beba0f394c",
       "version_major": 2,
       "version_minor": 0
      },
      "text/plain": [
       "Generate report structure:   0%|          | 0/1 [00:00<?, ?it/s]"
      ]
     },
     "metadata": {},
     "output_type": "display_data"
    },
    {
     "data": {
      "application/vnd.jupyter.widget-view+json": {
       "model_id": "319ec9bf5bdb4477a360e61a70831e49",
       "version_major": 2,
       "version_minor": 0
      },
      "text/plain": [
       "Render widgets:   0%|          | 0/1 [00:00<?, ?it/s]"
      ]
     },
     "metadata": {},
     "output_type": "display_data"
    },
    {
     "data": {
      "application/vnd.jupyter.widget-view+json": {
       "model_id": "b0fde43d6c75403e85f0eb1c800d4527",
       "version_major": 2,
       "version_minor": 0
      },
      "text/plain": [
       "VBox(children=(Tab(children=(Tab(children=(GridBox(children=(VBox(children=(GridspecLayout(children=(HTML(valu…"
      ]
     },
     "metadata": {},
     "output_type": "display_data"
    }
   ],
   "source": [
    "profile = ProfileReport(\n",
    "    df,\n",
    "    sort=None,\n",
    "    html={\"style\": {\"full_width\": True}},\n",
    "    title=\"Data Exploration\",\n",
    "    explorative=True,\n",
    ")\n",
    "profile.to_widgets()"
   ]
  },
  {
   "cell_type": "code",
   "execution_count": 7,
   "metadata": {},
   "outputs": [
    {
     "name": "stdout",
     "output_type": "stream",
     "text": [
      "       age  job  education  default  balance  housing  loan  y\n",
      "0       33    7          1        0       95        1     0  0\n",
      "1       36    2          3        0     1357        1     0  0\n",
      "2       31    5          3        0     2332        0     0  0\n",
      "3       35    2          2        0     3947        0     0  1\n",
      "4       42   11          4        0       -7        0     0  0\n",
      "...    ...  ...        ...      ...      ...      ...   ... ..\n",
      "44649   52    7          2        0    -1177        1     0  1\n",
      "44650   50    2          3        0       67        0     1  0\n",
      "44651   33    2          3        0      250        0     0  1\n",
      "44652   60    8          2        0      523        0     0  1\n",
      "44653   41    2          3        0     5561        0     0  1\n",
      "\n",
      "[44654 rows x 8 columns]        age  job  education  default  balance  housing  loan  y\n",
      "44654   35    9          3        0      816        1     0  0\n",
      "44655   43    2          3        0      291        1     0  0\n",
      "44656   57    6          2        0     3737        0     0  1\n",
      "44657   24    7          2        0      780        1     0  1\n",
      "44658   44    4          2        0      148        1     0  1\n",
      "...    ...  ...        ...      ...      ...      ...   ... ..\n",
      "55813   57    8          2        0     1044        0     0  1\n",
      "55814   40    4          2        0       90        1     0  0\n",
      "55815   51    2          3        0     2677        0     0  1\n",
      "55816   53    3          2        0       65        0     0  0\n",
      "55817   72    8          1        0     1763        0     0  1\n",
      "\n",
      "[11164 rows x 8 columns]\n"
     ]
    }
   ],
   "source": [
    "# Split and shuffle data\n",
    "train_data, test_data = split_data(df, shuffle=True)\n",
    "print(train_data, test_data)"
   ]
  },
  {
   "cell_type": "markdown",
   "metadata": {},
   "source": [
    "<h3>6. Data Cleaning and Feature Engineer</h3> \n",
    "\n",
    "Here we work on Data Cleaning and Feature Engineering before passing data down to pycaret's environment. This feature is still in progress.."
   ]
  },
  {
   "cell_type": "code",
   "execution_count": null,
   "metadata": {},
   "outputs": [],
   "source": [
    "# TBC (Just a Placeholder currently)"
   ]
  },
  {
   "cell_type": "code",
   "execution_count": 8,
   "metadata": {},
   "outputs": [],
   "source": [
    "# Import Pycaret library depending on the algorithm choice\n",
    "pycaret = importlib.import_module(f\"pycaret.{algorithm_choice}\")"
   ]
  },
  {
   "cell_type": "code",
   "execution_count": 9,
   "metadata": {},
   "outputs": [
    {
     "data": {
      "text/html": [
       "<style type=\"text/css\">\n",
       "#T_e5a37_row8_col1 {\n",
       "  background-color: lightgreen;\n",
       "}\n",
       "</style>\n",
       "<table id=\"T_e5a37\">\n",
       "  <thead>\n",
       "    <tr>\n",
       "      <th class=\"blank level0\" >&nbsp;</th>\n",
       "      <th id=\"T_e5a37_level0_col0\" class=\"col_heading level0 col0\" >Description</th>\n",
       "      <th id=\"T_e5a37_level0_col1\" class=\"col_heading level0 col1\" >Value</th>\n",
       "    </tr>\n",
       "  </thead>\n",
       "  <tbody>\n",
       "    <tr>\n",
       "      <th id=\"T_e5a37_level0_row0\" class=\"row_heading level0 row0\" >0</th>\n",
       "      <td id=\"T_e5a37_row0_col0\" class=\"data row0 col0\" >Session id</td>\n",
       "      <td id=\"T_e5a37_row0_col1\" class=\"data row0 col1\" >123</td>\n",
       "    </tr>\n",
       "    <tr>\n",
       "      <th id=\"T_e5a37_level0_row1\" class=\"row_heading level0 row1\" >1</th>\n",
       "      <td id=\"T_e5a37_row1_col0\" class=\"data row1 col0\" >Target</td>\n",
       "      <td id=\"T_e5a37_row1_col1\" class=\"data row1 col1\" >y</td>\n",
       "    </tr>\n",
       "    <tr>\n",
       "      <th id=\"T_e5a37_level0_row2\" class=\"row_heading level0 row2\" >2</th>\n",
       "      <td id=\"T_e5a37_row2_col0\" class=\"data row2 col0\" >Target type</td>\n",
       "      <td id=\"T_e5a37_row2_col1\" class=\"data row2 col1\" >Binary</td>\n",
       "    </tr>\n",
       "    <tr>\n",
       "      <th id=\"T_e5a37_level0_row3\" class=\"row_heading level0 row3\" >3</th>\n",
       "      <td id=\"T_e5a37_row3_col0\" class=\"data row3 col0\" >Original data shape</td>\n",
       "      <td id=\"T_e5a37_row3_col1\" class=\"data row3 col1\" >(44654, 8)</td>\n",
       "    </tr>\n",
       "    <tr>\n",
       "      <th id=\"T_e5a37_level0_row4\" class=\"row_heading level0 row4\" >4</th>\n",
       "      <td id=\"T_e5a37_row4_col0\" class=\"data row4 col0\" >Transformed data shape</td>\n",
       "      <td id=\"T_e5a37_row4_col1\" class=\"data row4 col1\" >(44654, 8)</td>\n",
       "    </tr>\n",
       "    <tr>\n",
       "      <th id=\"T_e5a37_level0_row5\" class=\"row_heading level0 row5\" >5</th>\n",
       "      <td id=\"T_e5a37_row5_col0\" class=\"data row5 col0\" >Transformed train set shape</td>\n",
       "      <td id=\"T_e5a37_row5_col1\" class=\"data row5 col1\" >(31257, 8)</td>\n",
       "    </tr>\n",
       "    <tr>\n",
       "      <th id=\"T_e5a37_level0_row6\" class=\"row_heading level0 row6\" >6</th>\n",
       "      <td id=\"T_e5a37_row6_col0\" class=\"data row6 col0\" >Transformed test set shape</td>\n",
       "      <td id=\"T_e5a37_row6_col1\" class=\"data row6 col1\" >(13397, 8)</td>\n",
       "    </tr>\n",
       "    <tr>\n",
       "      <th id=\"T_e5a37_level0_row7\" class=\"row_heading level0 row7\" >7</th>\n",
       "      <td id=\"T_e5a37_row7_col0\" class=\"data row7 col0\" >Numeric features</td>\n",
       "      <td id=\"T_e5a37_row7_col1\" class=\"data row7 col1\" >7</td>\n",
       "    </tr>\n",
       "    <tr>\n",
       "      <th id=\"T_e5a37_level0_row8\" class=\"row_heading level0 row8\" >8</th>\n",
       "      <td id=\"T_e5a37_row8_col0\" class=\"data row8 col0\" >Preprocess</td>\n",
       "      <td id=\"T_e5a37_row8_col1\" class=\"data row8 col1\" >True</td>\n",
       "    </tr>\n",
       "    <tr>\n",
       "      <th id=\"T_e5a37_level0_row9\" class=\"row_heading level0 row9\" >9</th>\n",
       "      <td id=\"T_e5a37_row9_col0\" class=\"data row9 col0\" >Imputation type</td>\n",
       "      <td id=\"T_e5a37_row9_col1\" class=\"data row9 col1\" >simple</td>\n",
       "    </tr>\n",
       "    <tr>\n",
       "      <th id=\"T_e5a37_level0_row10\" class=\"row_heading level0 row10\" >10</th>\n",
       "      <td id=\"T_e5a37_row10_col0\" class=\"data row10 col0\" >Numeric imputation</td>\n",
       "      <td id=\"T_e5a37_row10_col1\" class=\"data row10 col1\" >mean</td>\n",
       "    </tr>\n",
       "    <tr>\n",
       "      <th id=\"T_e5a37_level0_row11\" class=\"row_heading level0 row11\" >11</th>\n",
       "      <td id=\"T_e5a37_row11_col0\" class=\"data row11 col0\" >Categorical imputation</td>\n",
       "      <td id=\"T_e5a37_row11_col1\" class=\"data row11 col1\" >mode</td>\n",
       "    </tr>\n",
       "    <tr>\n",
       "      <th id=\"T_e5a37_level0_row12\" class=\"row_heading level0 row12\" >12</th>\n",
       "      <td id=\"T_e5a37_row12_col0\" class=\"data row12 col0\" >Fold Generator</td>\n",
       "      <td id=\"T_e5a37_row12_col1\" class=\"data row12 col1\" >StratifiedKFold</td>\n",
       "    </tr>\n",
       "    <tr>\n",
       "      <th id=\"T_e5a37_level0_row13\" class=\"row_heading level0 row13\" >13</th>\n",
       "      <td id=\"T_e5a37_row13_col0\" class=\"data row13 col0\" >Fold Number</td>\n",
       "      <td id=\"T_e5a37_row13_col1\" class=\"data row13 col1\" >10</td>\n",
       "    </tr>\n",
       "    <tr>\n",
       "      <th id=\"T_e5a37_level0_row14\" class=\"row_heading level0 row14\" >14</th>\n",
       "      <td id=\"T_e5a37_row14_col0\" class=\"data row14 col0\" >CPU Jobs</td>\n",
       "      <td id=\"T_e5a37_row14_col1\" class=\"data row14 col1\" >-1</td>\n",
       "    </tr>\n",
       "    <tr>\n",
       "      <th id=\"T_e5a37_level0_row15\" class=\"row_heading level0 row15\" >15</th>\n",
       "      <td id=\"T_e5a37_row15_col0\" class=\"data row15 col0\" >Use GPU</td>\n",
       "      <td id=\"T_e5a37_row15_col1\" class=\"data row15 col1\" >False</td>\n",
       "    </tr>\n",
       "    <tr>\n",
       "      <th id=\"T_e5a37_level0_row16\" class=\"row_heading level0 row16\" >16</th>\n",
       "      <td id=\"T_e5a37_row16_col0\" class=\"data row16 col0\" >Log Experiment</td>\n",
       "      <td id=\"T_e5a37_row16_col1\" class=\"data row16 col1\" >False</td>\n",
       "    </tr>\n",
       "    <tr>\n",
       "      <th id=\"T_e5a37_level0_row17\" class=\"row_heading level0 row17\" >17</th>\n",
       "      <td id=\"T_e5a37_row17_col0\" class=\"data row17 col0\" >Experiment Name</td>\n",
       "      <td id=\"T_e5a37_row17_col1\" class=\"data row17 col1\" >clf-default-name</td>\n",
       "    </tr>\n",
       "    <tr>\n",
       "      <th id=\"T_e5a37_level0_row18\" class=\"row_heading level0 row18\" >18</th>\n",
       "      <td id=\"T_e5a37_row18_col0\" class=\"data row18 col0\" >USI</td>\n",
       "      <td id=\"T_e5a37_row18_col1\" class=\"data row18 col1\" >ceb6</td>\n",
       "    </tr>\n",
       "  </tbody>\n",
       "</table>\n"
      ],
      "text/plain": [
       "<pandas.io.formats.style.Styler at 0x1765d6c70>"
      ]
     },
     "metadata": {},
     "output_type": "display_data"
    },
    {
     "data": {
      "text/plain": [
       "<pycaret.classification.oop.ClassificationExperiment at 0x1763d0d30>"
      ]
     },
     "execution_count": 9,
     "metadata": {},
     "output_type": "execute_result"
    }
   ],
   "source": [
    "# Initialize data in PyCaret with all the defined parameters\n",
    "pycaret.setup(data=train_data, target=target, session_id=123)"
   ]
  },
  {
   "cell_type": "markdown",
   "metadata": {},
   "source": [
    "<h3>7.Model Training</h3>\n",
    "\n",
    "Here we are using the pycaret automl tool to train the model. The automl tool tries a number of machine learning algorithms depending on the type of machine learning problem you are trying to solve <br>\n",
    "(regression, classification or time series). The automl tool then selects the best model based on the accuracy metrics of the tried models. "
   ]
  },
  {
   "cell_type": "code",
   "execution_count": null,
   "metadata": {},
   "outputs": [],
   "source": [
    "# Train and evaluate the performance of all estimators available in the model library using cross-validation.\n",
    "bestModel = pycaret.compare_models()"
   ]
  },
  {
   "cell_type": "markdown",
   "metadata": {},
   "source": [
    "<h3>8. Model Evaluation: </h3>\n",
    "\n",
    "Here we evaluate the performance of the best model, getting some visual representation of hyperparameters, features and other important details about the selected model.\n"
   ]
  },
  {
   "cell_type": "code",
   "execution_count": null,
   "metadata": {},
   "outputs": [],
   "source": [
    "# Evaluate model: Display UI analyzing Hyperparameters, Confusion Matrix, Class Report, etc.\n",
    "pycaret.evaluate_model(bestModel)"
   ]
  },
  {
   "cell_type": "markdown",
   "metadata": {},
   "source": [
    "<h3>9. Saving Model for future predition</h3>\n",
    "\n",
    "Here we are using a function that saves the model to s3. "
   ]
  },
  {
   "cell_type": "code",
   "execution_count": null,
   "metadata": {
    "scrolled": true
   },
   "outputs": [],
   "source": [
    "# Finalising model and save the model to current directory\n",
    "final_model = finalize_and_save_model(algorithm_choice, bestModel, model_name)"
   ]
  },
  {
   "cell_type": "code",
   "execution_count": null,
   "metadata": {},
   "outputs": [],
   "source": [
    "final_prediction = pycaret.predict_model(final_model, data=test_data)\n",
    "final_prediction.head()"
   ]
  },
  {
   "cell_type": "code",
   "execution_count": null,
   "metadata": {},
   "outputs": [],
   "source": [
    "# Upload model to s3\n",
    "save_model_to_s3(model_name, f'{model_name}-model')"
   ]
  },
  {
   "cell_type": "markdown",
   "metadata": {},
   "source": [
    "<h3>Model explainability functions:</h3>\n",
    "\n",
    "This visualization is designed to explain the output of a single prediction by showing the contribution of each feature to the final prediction, compared to a base value.\n",
    "\n",
    "\n",
    "<li><b>Base Value:</b> The base value is the reference point for the model's predictions. It's the value that would be predicted if we didn't know any features for the current output. In SHAP, this is typically the mean prediction of the model over the training dataset.</li>\n",
    "<li><b>Output Value (f(x)):</b> This is the actual prediction for the instance being explained. This value is the sum of the base value and all of the SHAP values (feature contributions) for this prediction.</li>\n",
    "<li><b>Red and Blue Arrows:</b> Each arrow represents a feature that contributes to the prediction. Features pushing the prediction higher (toward the right) are shown in red, and those pushing the prediction lower (toward the left) are shown in blue. The length of each arrow represents the magnitude of the feature's contribution.</li>\n",
    "<li><b>Red:</b> The feature increases the model's prediction. Pushes the prediction to a higher value, indicating that this feature has a positive impact on the prediction.</li>\n",
    "<li><b>Blue:</b> If there were any, blue would indicate features that push the model's prediction to a lower value.</li>"
   ]
  },
  {
   "cell_type": "code",
   "execution_count": null,
   "metadata": {},
   "outputs": [],
   "source": [
    "import shap\n",
    "\n",
    "test_features = test_data.copy().drop(target, axis=1)\n",
    "\n",
    "explainer = shap.Explainer(final_model.predict, test_features)\n",
    "\n",
    "# Generate SHAP values for your test features\n",
    "shap_values = explainer(test_features)\n",
    "\n",
    "base_value = shap_values.base_values[0]  # This is for a single output model\n",
    "\n",
    "shap_values_array = shap_values.values[0]\n",
    "\n",
    "# Visualize the first prediction's explanation\n",
    "shap.initjs()\n",
    "shap.force_plot(base_value, shap_values_array, test_features.iloc[0])"
   ]
  },
  {
   "cell_type": "markdown",
   "metadata": {},
   "source": [
    "### Shap Summary Plot\n",
    "We will use summary_plot. This type of plot aggregates SHAP values for all the features and all samples in the selected set. Then SHAP values are sorted, so the first one shown is the most important feature. In addition to that, we are provided with information of how each feature affects the model output."
   ]
  },
  {
   "cell_type": "code",
   "execution_count": null,
   "metadata": {},
   "outputs": [],
   "source": [
    "shap_values_array = shap_values.values\n",
    "\n",
    "# Plotting the summary plot for all features across all test samples\n",
    "shap.summary_plot(shap_values_array, test_features)"
   ]
  },
  {
   "cell_type": "markdown",
   "metadata": {},
   "source": [
    "<h3>10. Deploying the model endpoints</h3> \n",
    "\n",
    "Here we use a function that creates the model endpoint in sagemaker. "
   ]
  },
  {
   "cell_type": "code",
   "execution_count": null,
   "metadata": {},
   "outputs": [],
   "source": [
    "# deploy model to sagemaker endpoint\n",
    "deploy_model(model_name, instance_type, endpoint_name, role, model_instance_count, image_uri)"
   ]
  },
  {
   "cell_type": "markdown",
   "metadata": {},
   "source": [
    "# Clean up stage\n",
    "## Remove Endpoint and Endpoint Config"
   ]
  },
  {
   "cell_type": "code",
   "execution_count": null,
   "metadata": {},
   "outputs": [],
   "source": [
    "delete_sagemaker_endpoint(endpoint_name)"
   ]
  }
 ],
 "metadata": {
  "kernelspec": {
   "display_name": "venv",
   "language": "python",
   "name": "python3"
  },
  "language_info": {
   "codemirror_mode": {
    "name": "ipython",
    "version": 3
   },
   "file_extension": ".py",
   "mimetype": "text/x-python",
   "name": "python",
   "nbconvert_exporter": "python",
   "pygments_lexer": "ipython3",
   "version": "3.9.6"
  }
 },
 "nbformat": 4,
 "nbformat_minor": 2
}
